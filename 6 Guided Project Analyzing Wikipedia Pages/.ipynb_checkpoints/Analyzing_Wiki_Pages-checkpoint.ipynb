{
 "cells": [
  {
   "cell_type": "code",
   "execution_count": 1,
   "metadata": {},
   "outputs": [
    {
     "name": "stdout",
     "output_type": "stream",
     "text": [
      "Bay_of_ConcepciC3B3n.html\n",
      "Bye_My_Boy.html\n",
      "Valentin_Yanin.html\n"
     ]
    }
   ],
   "source": [
    "import os\n",
    "file_names = os.listdir(\"wiki\")\n",
    "for i in range(3):\n",
    "    print(file_names[i])"
   ]
  },
  {
   "cell_type": "code",
   "execution_count": null,
   "metadata": {},
   "outputs": [],
   "source": [
    "for i in file_names:\n",
    "    print(file_names[i])"
   ]
  }
 ],
 "metadata": {
  "kernelspec": {
   "display_name": "Python 3",
   "language": "python",
   "name": "python3"
  },
  "language_info": {
   "codemirror_mode": {
    "name": "ipython",
    "version": 3
   },
   "file_extension": ".py",
   "mimetype": "text/x-python",
   "name": "python",
   "nbconvert_exporter": "python",
   "pygments_lexer": "ipython3",
   "version": "3.8.2"
  }
 },
 "nbformat": 4,
 "nbformat_minor": 1
}

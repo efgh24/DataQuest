{
 "cells": [
  {
   "cell_type": "markdown",
   "id": "f1922aff",
   "metadata": {},
   "source": [
    "1. Define a class named Book.\n",
    "2. Inside the Book class, define the __init__() method with three arguments:\n",
    "    * self: the self-reference\n",
    "    * name: the name of the book\n",
    "    * num_pages: the number of pages in the book\n",
    "\n",
    "3. Implement the __init__() method so that it stores the provided name into self.name and num_pages into self.num_pages.\n",
    "\n",
    "4. Create an instance of Book with name \"Lord of the Flies\" and number of pages 228. Assign it to a variable named book."
   ]
  },
  {
   "cell_type": "code",
   "execution_count": 6,
   "id": "431684a0",
   "metadata": {},
   "outputs": [
    {
     "name": "stdout",
     "output_type": "stream",
     "text": [
      "Lord of the Flies 228\n"
     ]
    }
   ],
   "source": [
    "class Book:\n",
    "    def __init__(self, name, num_pages):\n",
    "        self.name = name\n",
    "        self.num_pages = num_pages\n",
    "        \n",
    "book = Book(\"Lord of the Flies\", 228)\n",
    "print(book.name, book.num_pages)"
   ]
  },
  {
   "cell_type": "markdown",
   "id": "d8d26973",
   "metadata": {},
   "source": [
    "1. Define a class named Node.\n",
    "\n",
    "2. Inside the Node class, define the __init__() method with two arguments:\n",
    "    * self: the self-reference\n",
    "    * data: the data to store on the node\n",
    "\n",
    "3. Implement the __init__() method so that it does the following:\n",
    "    * Stores the provided data into self.data\n",
    "    * Initializes the previous node, self.prev, to None\n",
    "    * Initializes the next node, self.next, to None\n",
    "\n",
    "4. Create a Node instance storing value 42. Assign it to a variable named node."
   ]
  },
  {
   "cell_type": "code",
   "execution_count": 4,
   "id": "e54d317a",
   "metadata": {},
   "outputs": [
    {
     "data": {
      "text/plain": [
       "42"
      ]
     },
     "execution_count": 4,
     "metadata": {},
     "output_type": "execute_result"
    }
   ],
   "source": [
    "class Node:\n",
    "    def __init__(self, data):\n",
    "        self.data = data\n",
    "        self.prev = None\n",
    "        self.next = None\n",
    "\n",
    "node = Node(42)\n",
    "node.data"
   ]
  },
  {
   "cell_type": "markdown",
   "id": "c1a48356",
   "metadata": {},
   "source": [
    "1. Define a class named LinkedList.\n",
    "\n",
    "2. Inside the LinkedList class, define the __init__() method with only the self argument.\n",
    "\n",
    "3. Implement the __init__() method by doing the following:\n",
    "    * Initializing an attribute named head by assigning None to self.head.\n",
    "    * Initializing an attribute named tail by assigning None to self.tail.\n",
    "    * Initializing an attribute named length by assigning 0 to self.length.\n",
    "\n",
    "4. Create a LinkedList instance. Assign it to a variable named lst."
   ]
  },
  {
   "cell_type": "code",
   "execution_count": 8,
   "id": "2e240e9c",
   "metadata": {},
   "outputs": [],
   "source": [
    "class LinkedList():\n",
    "    def __init__(self):\n",
    "        self.head = None\n",
    "        self.tail = None\n",
    "        self.length = 0\n",
    "\n",
    "lst = LinkedList()"
   ]
  },
  {
   "cell_type": "markdown",
   "id": "b3558a37",
   "metadata": {},
   "source": [
    "### We've provided the LinkedList class from the previous screen.\n",
    "\n",
    "1. Inside the LinkedList class, define a method called append with two arguments: self: the self-reference data: the data that we want to append to the list\n",
    "\n",
    "2. Implement the append() method by following these steps:\n",
    "    1. Use the Node() constructor to create a new node with the provided data. Assign it to a variable named new_node.\n",
    "    2. Use an if statement and the self.length attribute to check whether the list is empty (length equal to zero). If it is set both self.tail and self.head to new_node.\n",
    "    3. Otherwise, if the list is not empty. Use a else statement to do the following:\n",
    "        * Set the next node of self.tail to new_node.\n",
    "        * Set previous node of new_node to self.tail.\n",
    "        * Set the self.tail to be new_node.\n",
    "    4. Outside of the if, else statement, increment the length attribute by 1.\n",
    "\n",
    "### Test the implementation by following these steps after the LinkedList definition:\n",
    "\n",
    "1. Create a LinkedList instance. Assign it to a variable named lst.\n",
    "\n",
    "2. Use the append() method to append the value 10 to lst.\n",
    "\n",
    "3. Print the values of lst.length, lst.head.data, and lst.tail.data. You should get 1, 10, and 10.\n",
    "\n",
    "4. Use the append() method to append the value 11 to lst.\n",
    "\n",
    "5. Print the values of lst.length, lst.head.data and lst.tail.data. You should get 2, 10, and 11.\n"
   ]
  },
  {
   "cell_type": "code",
   "execution_count": 9,
   "id": "af7fb761",
   "metadata": {},
   "outputs": [],
   "source": [
    "class LinkedList:\n",
    "    \n",
    "    def __init__(self):\n",
    "        self.head = None\n",
    "        self.tail = None\n",
    "        self.length = 0\n",
    "        \n",
    "    # Implement append() method here\n",
    "    def append(self, data):\n",
    "        new_node = Node(data)\n",
    "        if self.length == 0:\n",
    "            self.head = new_node\n",
    "            self.tail = new_node\n",
    "        else:\n",
    "            self.tail.next = new_node\n",
    "            new_node.prev = self.tail\n",
    "            self.tail = new_node\n",
    "        self.length += 1"
   ]
  },
  {
   "cell_type": "code",
   "execution_count": 10,
   "id": "a2592777",
   "metadata": {},
   "outputs": [
    {
     "name": "stdout",
     "output_type": "stream",
     "text": [
      "1 10 10\n",
      "2 10 11\n"
     ]
    }
   ],
   "source": [
    "lst = LinkedList()\n",
    "lst.append(10)\n",
    "print(lst.length, lst.head.data, lst.tail.data)\n",
    "lst.append(11)\n",
    "print(lst.length, lst.head.data, lst.tail.data)"
   ]
  },
  {
   "cell_type": "markdown",
   "id": "9822a1a7",
   "metadata": {},
   "source": [
    "### We've provided the LinkedList class from the previous screen.\n",
    "\n",
    "1. Inside the LinkedList class, define a method called __iter__() with only self as argument.\n",
    "\n",
    "2. Implement the __iter__() method by:\n",
    "    * Initializing an attribute named self._iter_node and assigning to it the value of self.head.\n",
    "    * Returning self.\n"
   ]
  },
  {
   "cell_type": "code",
   "execution_count": 11,
   "id": "a4a9d43e",
   "metadata": {},
   "outputs": [],
   "source": [
    "class LinkedList:\n",
    "    \n",
    "    def __init__(self):\n",
    "        self.head = None\n",
    "        self.tail = None\n",
    "        self.length = 0\n",
    "        \n",
    "    def append(self, data):\n",
    "        new_node = Node(data)\n",
    "        if self.length == 0:\n",
    "            self.head = self.tail = new_node\n",
    "        else:\n",
    "            self.tail.next = new_node\n",
    "            new_node.prev = self.tail\n",
    "            self.tail = new_node\n",
    "        self.length += 1\n",
    "        \n",
    "    # Implement __iter__() method here\n",
    "    \n",
    "    def __iter__(self):\n",
    "        self._iter_node_ = self.head\n",
    "        return self"
   ]
  },
  {
   "cell_type": "markdown",
   "id": "8269e8c4",
   "metadata": {},
   "source": [
    "### We've provided the LinkedList class from the previous screen. We already added the partial implementation of the __next__() method shown above.\n",
    "\n",
    "1. After the if statement, store the return value by assigning the data attribute of self._iter_node to a variable named ret.\n",
    "\n",
    "2. Move the current node to the next node by assigning self._iter_node.next to self._iter_node.\n",
    "\n",
    "3. Return the value of ret.\n",
    "\n",
    "### Testing the implementation:\n",
    "\n",
    "1. Create an instance of LinkedList, and assign it to a variable named lst.\n",
    "\n",
    "2. Use the LinkedList.append() method to add the values 5, 3 and 8 to lst.\n",
    "\n",
    "3. Use a for loop to iterate over lst and print each value it contains. It should print 5, 3 and 8 (in this order).\n"
   ]
  },
  {
   "cell_type": "code",
   "execution_count": 13,
   "id": "2bca666c",
   "metadata": {},
   "outputs": [
    {
     "name": "stdout",
     "output_type": "stream",
     "text": [
      "5\n",
      "3\n",
      "8\n"
     ]
    }
   ],
   "source": [
    "class LinkedList:\n",
    "    \n",
    "    def __init__(self):\n",
    "        self.head = None\n",
    "        self.tail = None\n",
    "        self.length = 0\n",
    "        \n",
    "    def append(self, data):\n",
    "        new_node = Node(data)\n",
    "        if self.length == 0:\n",
    "            self.head = self.tail = new_node\n",
    "        else:\n",
    "            self.tail.next = new_node\n",
    "            new_node.prev = self.tail\n",
    "            self.tail = new_node\n",
    "        self.length += 1\n",
    "        \n",
    "    def __iter__(self):\n",
    "        self._iter_node = self.head\n",
    "        return self\n",
    "    \n",
    "    def __next__(self):\n",
    "        if self._iter_node is None:\n",
    "            raise StopIteration\n",
    "        # Rest of the implementation goes here\n",
    "        ret = self._iter_node.data\n",
    "        self._iter_node = self._iter_node.next\n",
    "        return ret\n",
    "    \n",
    "lst = LinkedList()\n",
    "lst.append(5)\n",
    "lst.append(3)\n",
    "lst.append(8)\n",
    "for l in lst:\n",
    "    print(l)"
   ]
  },
  {
   "cell_type": "markdown",
   "id": "78a141a2",
   "metadata": {},
   "source": [
    "### We've provided the LinkedList class from the previous screen.\n",
    "\n",
    "1. Inside the LinkedList class, define a method called prepend with two arguments: self: the self-reference data: the data that we want to prepend to the list\n",
    "\n",
    "2. Implement the prepend() method by following these steps:\n",
    "    1. Create a new node with the provided data. Assign it to a variable named new_node.\n",
    "    2. Use an if statement and the self.length attribute to check whether the list is empty. If it is set both self.tail and self.head to new_node.\n",
    "    3. Otherwise, if the list is not empty. Use a else statement do the following:\n",
    "        * Set the previous node of self.head to new_node.\n",
    "        * Set next node of new_node to self.head.\n",
    "        * Set the self.head to be new_node.\n",
    "    4. Outside of the if, else, increment the length attribute by 1.\n",
    "\n",
    "### Test the implementation by following these steps after the LinkedList definition:\n",
    "\n",
    "1. Create a LinkedList instance. Assign it to a variable named lst.\n",
    "\n",
    "2. Use the prepend() method to prepend the value 10 to lst.\n",
    "\n",
    "3. Print the values of lst.length, lst.head.data and lst.tail.data. You should get 1, 10, and 10.\n",
    "\n",
    "4. Use the prepend() method to append the value 11 to lst.\n",
    "\n",
    "5. Print the values of lst.length, lst.head.data, and lst.tail.data. You should get 2, 11, and 10.\n"
   ]
  },
  {
   "cell_type": "code",
   "execution_count": 14,
   "id": "58f67a50",
   "metadata": {},
   "outputs": [
    {
     "name": "stdout",
     "output_type": "stream",
     "text": [
      "1 10 10\n",
      "2 11 10\n"
     ]
    }
   ],
   "source": [
    "class LinkedList:\n",
    "    \n",
    "    def __init__(self):\n",
    "        self.head = None\n",
    "        self.tail = None\n",
    "        self.length = 0\n",
    "        \n",
    "    def append(self, data):\n",
    "        new_node = Node(data)\n",
    "        if self.length == 0:\n",
    "            self.head = self.tail = new_node\n",
    "        else:\n",
    "            self.tail.next = new_node\n",
    "            new_node.prev = self.tail\n",
    "            self.tail = new_node\n",
    "        self.length += 1\n",
    "        \n",
    "    def __iter__(self):\n",
    "        self._iter_node = self.head\n",
    "        return self \n",
    "    \n",
    "    def __next__(self):\n",
    "        if self._iter_node is None:\n",
    "            raise StopIteration\n",
    "        ret = self._iter_node.data\n",
    "        self._iter_node = self._iter_node.next\n",
    "        return ret\n",
    "    \n",
    "    # Add method here\n",
    "    def prepend(self, data):\n",
    "        new_node = Node(data)\n",
    "        if self.length == 0:\n",
    "            self.tail = new_node\n",
    "            self.head = new_node\n",
    "        else:\n",
    "            self.head.prev = new_node\n",
    "            new_node.next = self.head\n",
    "            self.head = new_node\n",
    "        self.length += 1\n",
    "\n",
    "lst = LinkedList()\n",
    "lst.prepend(10)\n",
    "print(lst.length, lst.head.data, lst.tail.data)\n",
    "lst.prepend(11)    \n",
    "print(lst.length, lst.head.data, lst.tail.data)"
   ]
  },
  {
   "cell_type": "markdown",
   "id": "255281e6",
   "metadata": {},
   "source": [
    "1. We've provided the LinkedList class from the previous screen.\n",
    "\n",
    "    * Inside the LinkedList class, define a method called __len__ with only self as argument.\n",
    "\n",
    "    * Implement the __len__() method by returning the value of self.length.\n",
    "\n",
    "2. Test the implementation by following these steps after the LinkedList definition:\n",
    "\n",
    "    * Create a LinkedList instance. Assign it to a variable named lst.\n",
    "\n",
    "    * Use the append() method to append the value 10 to lst.\n",
    "\n",
    "    * Use the len() built-in function to print the length of lst.\n"
   ]
  },
  {
   "cell_type": "code",
   "execution_count": 15,
   "id": "b464f080",
   "metadata": {},
   "outputs": [
    {
     "name": "stdout",
     "output_type": "stream",
     "text": [
      "1\n"
     ]
    }
   ],
   "source": [
    "class LinkedList:\n",
    "    \n",
    "    def __init__(self):\n",
    "        self.head = None\n",
    "        self.tail = None\n",
    "        self.length = 0\n",
    "        \n",
    "    def append(self, data):\n",
    "        new_node = Node(data)\n",
    "        if self.length == 0:\n",
    "            self.head = self.tail = new_node\n",
    "        else:\n",
    "            self.tail.next = new_node\n",
    "            new_node.prev = self.tail\n",
    "            self.tail = new_node\n",
    "        self.length += 1\n",
    "        \n",
    "    def __iter__(self):\n",
    "        self._iter_node = self.head\n",
    "        return self \n",
    "    \n",
    "    def __next__(self):\n",
    "        if self._iter_node is None:\n",
    "            raise StopIteration\n",
    "        ret = self._iter_node.data\n",
    "        self._iter_node = self._iter_node.next\n",
    "        return ret\n",
    "    \n",
    "    def prepend(self, data):\n",
    "        new_node = Node(data)\n",
    "        if self.length == 0:\n",
    "            self.head = self.tail = new_node\n",
    "        else:\n",
    "            self.head.prev = new_node\n",
    "            new_node.next = self.head\n",
    "            self.head = new_node\n",
    "        self.length += 1\n",
    "        \n",
    "    # Add __len__() method here\n",
    "    def __len__(self):\n",
    "        return self.length\n",
    "\n",
    "lst = LinkedList()\n",
    "lst.prepend(10)\n",
    "print(len(lst))"
   ]
  },
  {
   "cell_type": "markdown",
   "id": "db99d5e8",
   "metadata": {},
   "source": [
    "### We've provided the LinkedList class from the previous screen.\n",
    "\n",
    "1. Inside the LinkedList class, define a method called __str__ with only self as argument.\n",
    "\n",
    "2. Implement the __str__() method by doing the following:\n",
    "    * Use list comprehension to convert self to a Python list, like so: [value for value in self].\n",
    "    * Call the str() built-in function to cover the Python list to a string and return its value.\n",
    "\n",
    "### Test the implementation by following these steps after the LinkedList definition:\n",
    "\n",
    "1. Create a LinkedList instance. Assign it to a variable named lst.\n",
    "\n",
    "2. Print the value of lst. It should be [].\n",
    "\n",
    "3. Use the append() method to append the value 1 to lst.\n",
    "\n",
    "4. Print the value of lst. It should be [1].\n",
    "\n",
    "5. Use the append() method to append the value 2 to lst.\n",
    "\n",
    "6. Print the value of lst. It should be [1, 2].\n"
   ]
  },
  {
   "cell_type": "code",
   "execution_count": 17,
   "id": "d2fb1f84",
   "metadata": {},
   "outputs": [
    {
     "name": "stdout",
     "output_type": "stream",
     "text": [
      "[]\n",
      "[1]\n",
      "[1, 2]\n"
     ]
    }
   ],
   "source": [
    "class LinkedList:\n",
    "    \n",
    "    def __init__(self):\n",
    "        self.head = None\n",
    "        self.tail = None\n",
    "        self.length = 0\n",
    "        \n",
    "    def append(self, data):\n",
    "        new_node = Node(data)\n",
    "        if self.length == 0:\n",
    "            self.head = self.tail = new_node\n",
    "        else:\n",
    "            self.tail.next = new_node\n",
    "            new_node.prev = self.tail\n",
    "            self.tail = new_node\n",
    "        self.length += 1\n",
    "        \n",
    "    def __iter__(self):\n",
    "        self._iter_node = self.head\n",
    "        return self \n",
    "    \n",
    "    def __next__(self):\n",
    "        if self._iter_node is None:\n",
    "            raise StopIteration\n",
    "        ret = self._iter_node.data\n",
    "        self._iter_node = self._iter_node.next\n",
    "        return ret\n",
    "    \n",
    "    def prepend(self, data):\n",
    "        new_node = Node(data)\n",
    "        if self.length == 0:\n",
    "            self.head = self.tail = new_node\n",
    "        else:\n",
    "            self.head.prev = new_node\n",
    "            new_node.next = self.head\n",
    "            self.head = new_node\n",
    "        self.length += 1\n",
    "        \n",
    "    def __len__(self):\n",
    "        return self.length\n",
    "    \n",
    "    # Add __str__() method here\n",
    "    def __str__(self):\n",
    "        return str([value for value in self])\n",
    "    \n",
    "lst = LinkedList()\n",
    "print(lst)\n",
    "lst.append(1)\n",
    "print(lst)\n",
    "lst.append(2)\n",
    "print(lst)"
   ]
  },
  {
   "cell_type": "markdown",
   "id": "6b69efba",
   "metadata": {},
   "source": [
    "# QUEUES"
   ]
  },
  {
   "cell_type": "markdown",
   "id": "26da09ae",
   "metadata": {},
   "source": [
    "## The LinkedList class from the previous lesson is available, but we don't see the code.\n",
    "\n",
    "1. Define an empty class named Queue that extends the LinkedList class.\n",
    "\n",
    "2. Add a pass statement inside the Queue class to avoid getting an error.\n",
    "\n",
    "3. Use the Queue() constructor to create Queue instance. Assign it to a variable named queue.\n",
    "\n",
    "4. Verify that queue has access to the LinkedList attributes by printing the value of queue.length."
   ]
  },
  {
   "cell_type": "code",
   "execution_count": 18,
   "id": "1dc930c5",
   "metadata": {},
   "outputs": [
    {
     "name": "stdout",
     "output_type": "stream",
     "text": [
      "0\n"
     ]
    }
   ],
   "source": [
    "class Queue(LinkedList):\n",
    "    pass\n",
    "\n",
    "queue = Queue()\n",
    "\n",
    "print(queue.length)"
   ]
  },
  {
   "cell_type": "markdown",
   "id": "3801cddb",
   "metadata": {},
   "source": [
    "### We've provided the Queue class from the previous screen.\n",
    "\n",
    "1. Remove the pass statement.\n",
    "\n",
    "2. Define the enqueue() method with two arguments:\n",
    "    * self: the self-reference\n",
    "    * data: the data to add to the queue.\n",
    "\n",
    "3. Implement the enqueue() method by calling the prepend() method with data as argument.\n",
    "\n",
    "### Testing the implementation:\n",
    "\n",
    "1. Create a queue, and assign it to a variable named queue.\n",
    "\n",
    "2. Use the enqueue() method to add values 1, 2, and 3 to queue."
   ]
  },
  {
   "cell_type": "code",
   "execution_count": 19,
   "id": "7335a24c",
   "metadata": {},
   "outputs": [
    {
     "name": "stdout",
     "output_type": "stream",
     "text": [
      "[3, 2, 1]\n"
     ]
    }
   ],
   "source": [
    "class Queue(LinkedList):\n",
    "    def enqueue(self, data):\n",
    "        self.prepend(data)\n",
    "\n",
    "queue = Queue()\n",
    "queue.enqueue(1)\n",
    "queue.enqueue(2)\n",
    "queue.enqueue(3)\n",
    "print(queue)"
   ]
  },
  {
   "cell_type": "markdown",
   "id": "3bac24f7",
   "metadata": {},
   "source": [
    "### We've provided the Queue class from the previous screen.\n",
    "\n",
    "1. Define a get_front() method with only self as argument.\n",
    "\n",
    "2. Implement the get_front() method so that it return the data attribute of the tail node.\n",
    "\n",
    "### Testing the implementation:\n",
    "\n",
    "1. Create a queue and assign it to a variable named queue.\n",
    "\n",
    "2. Use the enqueue() method to add values 1, 2, and 3 to queue.\n",
    "\n",
    "3. Use the get_front() method to print the front value of queue. It should print 1."
   ]
  },
  {
   "cell_type": "code",
   "execution_count": 20,
   "id": "7e979acd",
   "metadata": {},
   "outputs": [
    {
     "name": "stdout",
     "output_type": "stream",
     "text": [
      "1\n"
     ]
    }
   ],
   "source": [
    "class Queue(LinkedList):\n",
    "    \n",
    "    def enqueue(self, data):\n",
    "        self.prepend(data)\n",
    "        \n",
    "    # Add get_front() method here\n",
    "    \n",
    "    def get_front(self):\n",
    "        return self.tail.data\n",
    "    \n",
    "queue = Queue()\n",
    "queue.enqueue(1)\n",
    "queue.enqueue(2)\n",
    "queue.enqueue(3)\n",
    "print(queue.get_front())"
   ]
  },
  {
   "cell_type": "markdown",
   "id": "cc7e1e25",
   "metadata": {},
   "source": [
    "### We've provided the Queue class from the previous screen.\n",
    "\n",
    "1. Define a dequeue() method with only self as argument.\n",
    "2. Implement the dequeue() method by following these steps:\n",
    "    1. Store the data in the current tail in a variable named ret.\n",
    "    2. If the queue has a single element, set both the tail and the head to None.\n",
    "    3. Otherwise, do the following:\n",
    "        * Move the tail back by setting self.tail to self.tail.prev.\n",
    "        * Remove the link from the new tail to the old tail by setting self.tail.next to None.\n",
    "    4. Decrease the length of the queue by 1.\n",
    "    5. Return the value of ret.\n",
    "\n",
    "### Testing the implementation:\n",
    "\n",
    "1. Create a queue, and assign it to a variable named queue.\n",
    "\n",
    "2. Use the enqueue() method to add values 1, 2, and 3 to queue.\n",
    "\n",
    "3. Use the dequeue() method to remove the front element of the queue. Assign it to a variable named front.\n",
    "\n",
    "4. Use the get_front() method to print the front element of the queue. It should be 2.\n"
   ]
  },
  {
   "cell_type": "code",
   "execution_count": 21,
   "id": "ea963da5",
   "metadata": {},
   "outputs": [
    {
     "name": "stdout",
     "output_type": "stream",
     "text": [
      "2\n"
     ]
    }
   ],
   "source": [
    "class Queue(LinkedList):\n",
    "    \n",
    "    def enqueue(self, data):\n",
    "        self.prepend(data)\n",
    "        \n",
    "    def get_front(self):\n",
    "        return self.tail.data\n",
    "    \n",
    "    # Add dequeue() method here\n",
    "    def dequeue(self):\n",
    "        ret = self.tail.data\n",
    "        if self.length == 1:\n",
    "            self.head = None\n",
    "            self.tail = None\n",
    "        else:\n",
    "            self.tail = self.tail.prev\n",
    "            self.tail.next = None\n",
    "        self.length -= 1\n",
    "        return ret\n",
    "    \n",
    "queue = Queue()\n",
    "queue.enqueue(1)\n",
    "queue.enqueue(2)\n",
    "queue.enqueue(3)\n",
    "front = queue.dequeue()\n",
    "print(queue.get_front())"
   ]
  },
  {
   "cell_type": "markdown",
   "id": "5b4e747f",
   "metadata": {},
   "source": [
    "1. Import the pandas module using alias pd.\n",
    "\n",
    "2. Use the pandas.read_csv() to read the processes.csv file into a DataFrame named processes. Use the index_col keyword argument to set the Pid column as index.\n",
    "\n",
    "3. Print the shape of the processes DataFrame."
   ]
  },
  {
   "cell_type": "code",
   "execution_count": 22,
   "id": "6f946649",
   "metadata": {},
   "outputs": [
    {
     "name": "stdout",
     "output_type": "stream",
     "text": [
      "(105, 2)\n"
     ]
    }
   ],
   "source": [
    "import pandas as pd\n",
    "processes = pd.read_csv('processes.csv',index_col='Pid')\n",
    "print(processes.shape)"
   ]
  },
  {
   "cell_type": "markdown",
   "id": "4b9135de",
   "metadata": {},
   "source": [
    "The Queue class and processes DataFrame are available.\n",
    "\n",
    "1. Initialize a variable named cur_time to 0. This variable represents the current time in the algorithm.\n",
    "\n",
    "2. Initialize a variable named num_processes_done to 0. This variable represents the total number of processes that finished executing.\n",
    "\n",
    "3. Use the Queue() constructor to initialize and empty a queue named wait_queue. This queue will store the IDs of the waiting processes.\n",
    "\n",
    "4. Initialize a variable named cur_pid to None. This variable represents the ID of the process currently running on the CPU."
   ]
  },
  {
   "cell_type": "code",
   "execution_count": 24,
   "id": "93128051",
   "metadata": {},
   "outputs": [],
   "source": [
    "cur_time = 0\n",
    "num_processes_done = 0\n",
    "wait_queue = Queue()\n",
    "cur_pid = None"
   ]
  },
  {
   "cell_type": "markdown",
   "id": "39589fe8",
   "metadata": {},
   "source": [
    "### The simulation will build two new columns in the processes DataFrame. The first one, named Start, will provide the start time of each process. The second, named End will store the time when the process terminated.\n",
    "\n",
    "We'll simulate time by incrementing the cur_time variable. At each time, we need to do three things:\n",
    "\n",
    "1. Handle end of the process: if cur_pid is not None (there is a process on the CPU), then we check whether its starting time plus its duration are equal to cur_time. If they are, it means the process has finished executing. We can then set the end time of this process to cur_time and set cur_pid to None to free the CPU.\n",
    "\n",
    "2. Handle arriving processes: find all processes with arrival time equal to cur_time and add them to the wait_queue.\n",
    "\n",
    "3. Assign a process to the CPU: if the CPU is free, that is, cur_pid is None, and there are processes waiting in the queue then remove the process at the front of the queue, and assign it to cur_pid. We also need to set its start time to cur_time.\n",
    "\n",
    "Here's the implementation template of the simulation:\n",
    "\n",
    "```\n",
    "while num_processes_done < processes.shape[0]:\n",
    "    # Check if current process finished\n",
    "    if cur_pid is not None:\n",
    "        if processes.loc[cur_pid, \"Start\"] + processes.loc[cur_pid, \"Duration\"] == cur_time:\n",
    "            # Step 1 code goes here\n",
    "\n",
    "    # Handle arriving processes\n",
    "    # Step 2 code goes here\n",
    "\n",
    "    # Assign a process to the processor\n",
    "    if cur_pid is None and len(wait_queue) > 0:\n",
    "        # Step 3 code goes here\n",
    "\n",
    "    cur_time += 1\n",
    "```"
   ]
  },
  {
   "cell_type": "markdown",
   "id": "e1b53ff8",
   "metadata": {},
   "source": [
    "### We've made the Queue class and the processes DataFrame available.\n",
    "\n",
    "1. Copy the simulation code from the learn section to the script after the variable initialization.\n",
    "\n",
    "2. Implement step one (handle the end of the process) by following these steps:\n",
    " * Set the end time of the current process by setting processes.loc[cur_pid, \"End\"] to cur_time.\n",
    " * Set cur_pid to None.\n",
    " * Increment num_processes_done.\n",
    "\n",
    "3. Implement step two (handle arriving processes) by following these steps:\n",
    " * Get all rows from processes with an arrival time equal to cur_time. Assign the result to a variable named ready_processes.\n",
    " * Add the pid of each process in ready_processes to wait_queue.\n",
    "\n",
    "4. Implement step three (assign a process to the CPU) by following these steps:\n",
    " * Get and remove the ID of the process at the front of the queue. Assign it to variable cur_pid.\n",
    " * Set the start time of the current process by setting processes.loc[cur_pid, \"Start\"] to cur_time\n",
    "\n",
    "5. After the while loop, use the DataFrame.head() method to display the first five rows of processes. Compare the results with the table shown at the end of the learn section.\n"
   ]
  },
  {
   "cell_type": "code",
   "execution_count": 25,
   "id": "37982864",
   "metadata": {},
   "outputs": [
    {
     "name": "stdout",
     "output_type": "stream",
     "text": [
      "     Arrival  Duration  Start   End\n",
      "Pid                                \n",
      "P1         2         2    2.0   4.0\n",
      "P2         0         1    0.0   1.0\n",
      "P3         3         3    4.0   7.0\n",
      "P4         3         5    7.0  12.0\n",
      "P5         4         4   12.0  16.0\n"
     ]
    }
   ],
   "source": [
    "cur_time = 0\n",
    "num_processes_done = 0\n",
    "wait_queue = Queue()\n",
    "cur_pid = None\n",
    "\n",
    "# Copy and paste tempalte code here\n",
    "\n",
    "while num_processes_done < processes.shape[0]:\n",
    "    # Check if current process finished\n",
    "    if cur_pid is not None:\n",
    "        if processes.loc[cur_pid, \"Start\"] + processes.loc[cur_pid, \"Duration\"] == cur_time:\n",
    "            # Step 1 code goes here\n",
    "            processes.loc[cur_pid, \"End\"] = cur_time\n",
    "            cur_pid = None\n",
    "            num_processes_done += 1\n",
    "\n",
    "    # Handle arriving processes\n",
    "    # Step 2 code goes here\n",
    "    ready_processes = processes[processes[\"Arrival\"] == cur_time]\n",
    "    for pid, _ in ready_processes.iterrows():\n",
    "        wait_queue.enqueue(pid)\n",
    "\n",
    "    # Assign a process to the processor\n",
    "    if cur_pid is None and len(wait_queue) > 0:\n",
    "        # Step 3 code goes here\n",
    "        cur_pid = wait_queue.dequeue()\n",
    "        processes.loc[cur_pid, \"Start\"] = cur_time \n",
    "    cur_time += 1\n",
    "print(processes.head())"
   ]
  },
  {
   "cell_type": "markdown",
   "id": "27ebc279",
   "metadata": {},
   "source": [
    "### We've made the processes DataFrame with the start and end times available.\n",
    "\n",
    "1. Calculate the difference between the Start and Arrival columns of the processes DataFrame. Assign the result to a new column named Wait.\n",
    "\n",
    "2. Use the Series.mean() function to calculate the average wait time of the processes. Assign the result to a variable named average_wait_time.\n"
   ]
  },
  {
   "cell_type": "code",
   "execution_count": 27,
   "id": "03fd28eb",
   "metadata": {},
   "outputs": [
    {
     "name": "stdout",
     "output_type": "stream",
     "text": [
      "     Arrival  Duration  Start   End  Wait\n",
      "Pid                                      \n",
      "P1         2         2    2.0   4.0   0.0\n",
      "P2         0         1    0.0   1.0   0.0\n",
      "P3         3         3    4.0   7.0   1.0\n",
      "P4         3         5    7.0  12.0   4.0\n",
      "P5         4         4   12.0  16.0   8.0\n"
     ]
    }
   ],
   "source": [
    "processes['Wait'] = processes['Start'] - processes['Arrival']\n",
    "average_wait_time = processes['Wait'].mean()\n",
    "print(processes.head())\n"
   ]
  },
  {
   "cell_type": "markdown",
   "id": "fe74b610",
   "metadata": {},
   "source": [
    "### We've made the processes DataFrame with the start, end, and wait times is available.\n",
    "\n",
    "1. Calculate the turnaround times for each process in the processes DataFrame. Assign the result to a new column named Turnaround.\n",
    "\n",
    "2. Use the Series.mean() function to calculate the average turnaround time of the processes. Assign the result to a variable named average_turnaround_time.\n"
   ]
  },
  {
   "cell_type": "code",
   "execution_count": 28,
   "id": "e36a9c91",
   "metadata": {},
   "outputs": [
    {
     "name": "stdout",
     "output_type": "stream",
     "text": [
      "<bound method NDFrame.head of       Arrival  Duration  Start    End   Wait  Turnaround\n",
      "Pid                                                     \n",
      "P1          2         2    2.0    4.0    0.0         2.0\n",
      "P2          0         1    0.0    1.0    0.0         1.0\n",
      "P3          3         3    4.0    7.0    1.0         4.0\n",
      "P4          3         5    7.0   12.0    4.0         9.0\n",
      "P5          4         4   12.0   16.0    8.0        12.0\n",
      "...       ...       ...    ...    ...    ...         ...\n",
      "P101      187         8  349.0  357.0  162.0       170.0\n",
      "P102      318         1  593.0  594.0  275.0       276.0\n",
      "P103      435        17  942.0  959.0  507.0       524.0\n",
      "P104      111         2  215.0  217.0  104.0       106.0\n",
      "P105      345        11  670.0  681.0  325.0       336.0\n",
      "\n",
      "[105 rows x 6 columns]>\n"
     ]
    }
   ],
   "source": [
    "processes['Turnaround'] = processes['Wait'] + processes['Duration']\n",
    "average_turnaround_time = processes['Turnaround'].mean()\n",
    "print(processes.head)"
   ]
  },
  {
   "cell_type": "markdown",
   "id": "bb99b0e5",
   "metadata": {},
   "source": [
    "### We've made the LinkedList class from the previous lesson available, but the code is hidden.\n",
    "\n",
    "1. Define an empty class named Stack that extends the LinkedList class.\n",
    "\n",
    "2. Add a pass statement inside the Stack class to avoid getting an error.\n",
    "\n",
    "3. Use the Stack() constructor to create Stack instance. Assign it to a variable named stack.\n",
    "\n",
    "4. Verify that stack has access to the LinkedList attributes by printing the value of stack.length."
   ]
  },
  {
   "cell_type": "code",
   "execution_count": 29,
   "id": "4f6afcc7",
   "metadata": {},
   "outputs": [
    {
     "name": "stdout",
     "output_type": "stream",
     "text": [
      "0\n"
     ]
    }
   ],
   "source": [
    "class Stack(LinkedList):\n",
    "    pass\n",
    "\n",
    "stack = Stack()\n",
    "print(stack.length)"
   ]
  },
  {
   "cell_type": "markdown",
   "id": "e364c6b7",
   "metadata": {},
   "source": [
    "### We've provided the Stack class from the \"Queues\" lesson.\n",
    "\n",
    "1. Remove the pass statement.\n",
    "\n",
    "2. Define the push() method with two arguments:\n",
    "    * self: the self-reference\n",
    "    * data: the data to add to the stack.\n",
    "\n",
    "3. Implement the push() method by calling the append() method with data as argument.\n",
    "\n",
    "### Testing the implementation:\n",
    "\n",
    "1. Create a stack and assign it to a variable named stack.\n",
    "\n",
    "2. Use the push() method to add values 1, 2 and 3 to stack.\n",
    "\n",
    "3. Print the value of stack."
   ]
  },
  {
   "cell_type": "code",
   "execution_count": 30,
   "id": "41527bc0",
   "metadata": {},
   "outputs": [
    {
     "name": "stdout",
     "output_type": "stream",
     "text": [
      "[1, 2, 3]\n"
     ]
    }
   ],
   "source": [
    "class Stack(LinkedList):\n",
    "    def push(self, data):\n",
    "        self.append(data)\n",
    "\n",
    "stack = Stack()\n",
    "for i in [1, 2, 3]:\n",
    "    stack.push(i)\n",
    "\n",
    "print(stack)"
   ]
  },
  {
   "cell_type": "markdown",
   "id": "99240b07",
   "metadata": {},
   "source": [
    "### We've provided the Stack class from the \"Queues\" lesson.\n",
    "\n",
    "1. Define a peek() method with only self as argument.\n",
    "\n",
    "2. Implement the peek() method so that it returns the data attribute of the tail node.\n",
    "\n",
    "### To test the implementation, do the following:\n",
    "\n",
    "1. Create a stack, and assign it to a variable named stack.\n",
    "\n",
    "2. Use the push() method to add values 1, 2, and 3 to stack.\n",
    "\n",
    "3. Use the peek() method to print the top value of stack. It should print 3.\n"
   ]
  },
  {
   "cell_type": "code",
   "execution_count": 31,
   "id": "99f2e2fb",
   "metadata": {},
   "outputs": [
    {
     "name": "stdout",
     "output_type": "stream",
     "text": [
      "3\n"
     ]
    }
   ],
   "source": [
    "class Stack(LinkedList):\n",
    "    \n",
    "    def push(self, data):\n",
    "        self.append(data)\n",
    "\n",
    "    # Add peek() method here\n",
    "    def peek(self):\n",
    "        return self.tail.data\n",
    "    \n",
    "stack = Stack()\n",
    "for i in [1, 2, 3]:\n",
    "    stack.push(i)\n",
    "print(stack.peek())"
   ]
  },
  {
   "cell_type": "markdown",
   "id": "b7c7675c",
   "metadata": {},
   "source": [
    "### We've provided the Stack class from the \"Queues\" lesson.\n",
    "\n",
    "1. Define a pop() method with only self as argument.\n",
    "\n",
    "2. Implement the pop() method by following these steps:\n",
    "    1. Store the data in the current tail in a variable named ret.\n",
    "    2. If the stack has a single element, set both the tail and the head to None.\n",
    "    3. Otherwise, do the following:\n",
    "        * Move the tail back by setting self.tail to self.tail.prev.\n",
    "        * Remove the link from the new tail to the old tail by setting self.tail.next to None.\n",
    "    4. Decrease the length of the stack by 1.\n",
    "    5. Return the value of ret.\n",
    "\n",
    "### To test the implementation, do the following:\n",
    "\n",
    "1. Create a stack, and assign it to a variable named stack.\n",
    "\n",
    "2. Use the push() method to add values 1, 2, and 3 to stack.\n",
    "\n",
    "3. Use the pop() method to remove the top element of the stack. Assign it to a variable named top.\n",
    "\n",
    "4. Use the peek() method to print the top element of the stack. It should be 2.\n"
   ]
  },
  {
   "cell_type": "code",
   "execution_count": 32,
   "id": "f52e83c9",
   "metadata": {},
   "outputs": [
    {
     "name": "stdout",
     "output_type": "stream",
     "text": [
      "2\n"
     ]
    }
   ],
   "source": [
    "class Stack(LinkedList):\n",
    "    \n",
    "    def push(self, data):\n",
    "        self.append(data)\n",
    "\n",
    "    def peek(self):\n",
    "        return self.tail.data\n",
    "\n",
    "    # Add pop() method here\n",
    "    def pop(self):\n",
    "        ret = self.tail.data\n",
    "        if self.length == 1:\n",
    "            self.tail = self.head = None\n",
    "        else:\n",
    "            self.tail = self.tail.prev\n",
    "            self.tail.next = None\n",
    "        self.length -= 1\n",
    "        return ret\n",
    "    \n",
    "stack = Stack()\n",
    "for i in [1, 2, 3]:\n",
    "    stack.push(i)\n",
    "top = stack.pop()\n",
    "print(stack.peek())"
   ]
  },
  {
   "cell_type": "markdown",
   "id": "cb3b120a",
   "metadata": {},
   "source": [
    "1. Import the pandas module using alias pd.\n",
    "2. Use the pandas.read_csv() to read the processes.csv file into a DataFrame named processes. Use the index_col keyword argument to set the Pid column as index.\n",
    "\n",
    "3. Print the shape of the processes DataFrame.\n"
   ]
  },
  {
   "cell_type": "code",
   "execution_count": 33,
   "id": "0b48648a",
   "metadata": {},
   "outputs": [
    {
     "name": "stdout",
     "output_type": "stream",
     "text": [
      "(105, 2)\n"
     ]
    }
   ],
   "source": [
    "import pandas as pd\n",
    "\n",
    "processes = pd.read_csv(\"processes.csv\",index_col=\"Pid\")\n",
    "print(processes.shape)"
   ]
  },
  {
   "cell_type": "markdown",
   "id": "60666f6b",
   "metadata": {},
   "source": [
    "1. Initialize a variable named cur_time to 0. This variable represents the current time in the algorithm.\n",
    "\n",
    "2. Initialize a variable named num_processes_done to 0. This variable represents the total number of processes that finished executing.\n",
    "\n",
    "3. Use the Stack() constructor to initialize an empty queue named wait_stack. This queue will store the IDs of the waiting processes.\n",
    "\n",
    "4. Initialize a variable named cur_pid to None. This variable represents the ID of the process currently running on the CPU.\n"
   ]
  },
  {
   "cell_type": "code",
   "execution_count": 34,
   "id": "a4ebf565",
   "metadata": {},
   "outputs": [],
   "source": [
    "cur_time = 0\n",
    "num_processes_done = 0\n",
    "wait_stack = Stack()\n",
    "cur_pid = None"
   ]
  },
  {
   "cell_type": "markdown",
   "id": "cebabed2",
   "metadata": {},
   "source": [
    "### The Stack class and the processes DataFrame are available.\n",
    "\n",
    "1. Copy the simulation code from the learn section to the script after the variable initialization.\n",
    "\n",
    "2. Implement step 1 (handle end of the process) by checking whether cur_pid is not None and whether its starting time plus its duration are equal to cur_time. If they are, it means the process is finished executing. We can then do the following:\n",
    "    * Set the end time of this process to cur_time.\n",
    "    * Set cur_pid to None to free the CPU.\n",
    "    * Increment the number of processes that are finished.\n",
    "\n",
    "3. Implement step 2 (handle arriving processes) by following these steps:\n",
    "    * Get all rows from processes whose arrival time is equal to cur_time. Assign the result to a variable named ready_processes.\n",
    "    * Add the pid of each process in ready_processes to wait_stack.\n",
    "\n",
    "4. Implement step 3 (assign a process to the CPU) by checking whether the CPU is free — that is, cur_pid is None — and there are processes waiting in the stack. If this is the case do the following:\n",
    "    * Get and remove the ID of the process at the front of the queue. Assign it to variable cur_pid.\n",
    "    * Set the start time of the current process by setting processes.loc[cur_pid, \"Start\"] to cur_time\n",
    "\n",
    "5. Use the DataFrame.head() method to display the first five rows of processes. Compare the results with the table shown at the end of the learn section.\n"
   ]
  },
  {
   "cell_type": "code",
   "execution_count": 36,
   "id": "3d9bf1da",
   "metadata": {},
   "outputs": [
    {
     "name": "stdout",
     "output_type": "stream",
     "text": [
      "     Arrival  Duration  Start   End\n",
      "Pid                                \n",
      "P1         2         2    2.0   4.0\n",
      "P2         0         1    0.0   1.0\n",
      "P3         3         3   13.0  16.0\n",
      "P4         3         5    8.0  13.0\n",
      "P5         4         4    4.0   8.0\n"
     ]
    }
   ],
   "source": [
    "cur_time = 0\n",
    "num_processes_done = 0\n",
    "wait_stack = Stack()\n",
    "cur_pid = None\n",
    "\n",
    "# Copy and paste template code here\n",
    "while num_processes_done < processes.shape[0]:\n",
    "    # Step 1 goes here\n",
    "    if cur_pid is not None:\n",
    "        if processes.loc[cur_pid, \"Start\"] + processes.loc[cur_pid, \"Duration\"] == cur_time:\n",
    "            processes.loc[cur_pid, \"End\"] = cur_time\n",
    "            cur_pid = None\n",
    "            num_processes_done += 1\n",
    "    # Step 2 goes here\n",
    "    ready_processes = processes[processes[\"Arrival\"] == cur_time]\n",
    "    for pid, _ in ready_processes.iterrows():\n",
    "        wait_stack.push(pid)\n",
    "    # Step 3 goes here\n",
    "    if cur_pid is None and len(wait_stack) > 0:\n",
    "        cur_pid = wait_stack.pop()\n",
    "        processes.loc[cur_pid, \"Start\"] = cur_time \n",
    "    cur_time += 1\n",
    "    \n",
    "print(processes.head())"
   ]
  },
  {
   "cell_type": "markdown",
   "id": "b036d3b2",
   "metadata": {},
   "source": [
    "The processes DataFrame with the start and end times is available.\n",
    "\n",
    "1. Calculate the difference between the Start and Arrival columns of the processes DataFrame. Assign the result to a new column named Wait.\n",
    "\n",
    "2. Use the Series.mean() function to calculate the average wait time of the processes. Assign the result to a variable named average_wait_time.\n"
   ]
  },
  {
   "cell_type": "code",
   "execution_count": 37,
   "id": "328b6a1c",
   "metadata": {},
   "outputs": [
    {
     "name": "stdout",
     "output_type": "stream",
     "text": [
      "     Arrival  Duration  Start   End  Wait\n",
      "Pid                                      \n",
      "P1         2         2    2.0   4.0   0.0\n",
      "P2         0         1    0.0   1.0   0.0\n",
      "P3         3         3   13.0  16.0  10.0\n",
      "P4         3         5    8.0  13.0   5.0\n",
      "P5         4         4    4.0   8.0   0.0\n"
     ]
    }
   ],
   "source": [
    "processes['Wait'] = processes['Start']-processes['Arrival']\n",
    "average_wait_time = processes['Wait'].mean()\n",
    "print(processes.head())"
   ]
  },
  {
   "cell_type": "markdown",
   "id": "3f819970",
   "metadata": {},
   "source": [
    "The processes DataFrame with the start, end and wait times is available.\n",
    "\n",
    "1. Use the Series.max() method to calculate the maximum value of the FCFS Wait column. Assign it to a variable named fcfs_max_wait.\n",
    "\n",
    "2. Use the Series.max() method to calculate the maximum value of the Wait column. Assign it to a variable named lcfs_max_wait.\n",
    "\n",
    "3. Print the values of the fcfs_max_wait and lcfs_max_wait variables."
   ]
  },
  {
   "cell_type": "code",
   "execution_count": 40,
   "id": "928c13cf",
   "metadata": {},
   "outputs": [
    {
     "name": "stdout",
     "output_type": "stream",
     "text": [
      "989.0\n"
     ]
    }
   ],
   "source": [
    "#fcfs_max_wait = processes['FCFS Wait'].max()\n",
    "\n",
    "lcfs_max_wait = processes['Wait'].max()\n",
    "\n",
    "print(lcfs_max_wait)"
   ]
  },
  {
   "cell_type": "markdown",
   "id": "f4e89d63",
   "metadata": {},
   "source": [
    "### The processes DataFrame with the start, end and wait times is available.\n",
    "\n",
    "1. Calculate the turnaround times for each process in the processes DataFrame. Assign the result to a new column named Turnaround.\n",
    "\n",
    "2. Use the Series.mean() function to calculate the average turnaround time of the processes. Assign the result to a variable named average_turnaround_time."
   ]
  },
  {
   "cell_type": "code",
   "execution_count": 41,
   "id": "56acca96",
   "metadata": {},
   "outputs": [],
   "source": [
    "processes['Turnaround'] = processes['Wait'] + processes['Duration']\n",
    "\n",
    "average_turnaround_time = processes['Turnaround'].mean()"
   ]
  },
  {
   "cell_type": "markdown",
   "id": "1ccba769",
   "metadata": {},
   "source": [
    "# Dictionary"
   ]
  },
  {
   "cell_type": "markdown",
   "id": "5e23ec1e",
   "metadata": {},
   "source": [
    "1. Define an empty class named Entry.\n",
    "\n",
    "2. Inside the Entry class, define the __init__() method with three arguments:\n",
    "    * self: the self-reference\n",
    "    * key: the key of this entry\n",
    "    * value: the value of this entry\n",
    "\n",
    "3. Implement the __init__() method by storing key into self.key and value into self.value.\n",
    "\n",
    "4. Create an entry with key 12345 and value \"my value\". Assign it to a variable named my_entry."
   ]
  },
  {
   "cell_type": "code",
   "execution_count": 42,
   "id": "97342482",
   "metadata": {},
   "outputs": [],
   "source": [
    "class Entry():\n",
    "    def __init__(self, key, value):\n",
    "        self.key = key\n",
    "        self.value = value\n",
    "        \n",
    "my_entry = Entry(12345, \"my value\")"
   ]
  },
  {
   "cell_type": "markdown",
   "id": "fb4ab7bf",
   "metadata": {},
   "source": [
    "1. Define a class named Dictionary.\n",
    "\n",
    "2. Inside the Dictionary class, define the __init__() method with two arguments:\n",
    "    * self: the self-reference\n",
    "    * num_buckets: the number of buckets to use (the value B in the learn section)\n",
    "\n",
    "3. Implement the __init__() method by following these steps:\n",
    "    * Store num_buckets into self.num_buckets.\n",
    "    * Create a list of length num_buckets with each entry set to None. Store it into self.buckets.\n",
    "    * Initialize the length of the dictionary by setting self.length to 0.\n",
    "\n",
    "4. Use the Dictionary constructor to create a dictionary with 5 buckets. Assign it to a variable named my_dict.\n"
   ]
  },
  {
   "cell_type": "code",
   "execution_count": 43,
   "id": "3f8bfcfc",
   "metadata": {},
   "outputs": [],
   "source": [
    "class Dictionary():\n",
    "    def __init__(self, num_buckets):\n",
    "        self.num_buckets = num_buckets\n",
    "        self.buckets = [None for _ in range(num_buckets)]\n",
    "        self.length = 0\n",
    "my_dict = Dictionary(5)"
   ]
  },
  {
   "cell_type": "markdown",
   "id": "8282683b",
   "metadata": {},
   "source": [
    "We have provided the Dictionary class from the previous screen.\n",
    "\n",
    "1. Modify the line that initializes the buckets attribute by replacing None with an instance of a LinkedList instance.\n",
    "\n",
    "2. Use the Dictionary constructor to create a dictionary with 5 buckets. Assign it to a variable named my_dict."
   ]
  },
  {
   "cell_type": "code",
   "execution_count": 44,
   "id": "5e135287",
   "metadata": {},
   "outputs": [],
   "source": [
    "# Add import here\n",
    "\n",
    "class Dictionary:\n",
    "    \n",
    "    def __init__(self, num_buckets):\n",
    "        self.num_buckets = num_buckets\n",
    "        # Modify the line below\n",
    "        self.buckets = [LinkedList() for _ in range(num_buckets)]\n",
    "        self.length = 0\n",
    "        \n",
    "my_dict = Dictionary(5)"
   ]
  },
  {
   "cell_type": "markdown",
   "id": "9027d98b",
   "metadata": {},
   "source": [
    "We've provided the Dictionary class from the previous screen.\n",
    "\n",
    "1. Declare a method named _get_index with two arguments:\n",
    "    * self: the self-reference\n",
    "    * key: the key for which we want to get the index — we assume that the key is hashable\n",
    "\n",
    "2. Implement the _get_index() method by following these steps:\n",
    "    * Use the hash() to calculate the hash code of key. Assign it to a variable named hashcode.\n",
    "    * Reduce the hashcode to a bucket index by using the % operator to calculate the remainder of the division of hashcode by self.num_buckets.\n",
    "    * Return the bucket index.\n",
    "\n",
    "3. Create Dictionary instance with 5 buckets. Assign it to a variable named my_dict\n",
    "\n",
    "4. Call the _get_index() with a key equal to the string \"data engineering\". Assign the result to a variable named index."
   ]
  },
  {
   "cell_type": "code",
   "execution_count": 45,
   "id": "3cfb4069",
   "metadata": {},
   "outputs": [],
   "source": [
    "class Dictionary:\n",
    "    \n",
    "    def __init__(self, num_buckets):\n",
    "        self.num_buckets = num_buckets\n",
    "        self.buckets = [LinkedList() for _ in range(num_buckets)]\n",
    "        self.length = 0\n",
    "        \n",
    "    # Add _get_index() method here\n",
    "    def _get_index(self, key):\n",
    "        hashcode = hash(key)\n",
    "        return hashcode % self.num_buckets\n",
    "\n",
    "my_dict = Dictionary(5)\n",
    "index = my_dict._get_index(\"data engineering\")"
   ]
  },
  {
   "cell_type": "markdown",
   "id": "a37ced26",
   "metadata": {},
   "source": [
    "We've provided the Dictionary class from the previous screen.\n",
    "\n",
    "1. Declare a method named put with three arguments:\n",
    "    * self: the self-reference\n",
    "    * key: the key — we assume that the key is hashable\n",
    "    * value: the value associated with the key\n",
    "\n",
    "2. Implement the put() method by following these steps:\n",
    "    1. Use the _get_index() method to calculate the index of the bucket for the provided key. Assign it to a variable named index.\n",
    "    2. Declare a Boolean value named found_key initially set to False.\n",
    "    3. Use a for loop to iterate over all entries in self.buckets[index] using a variable named entry. For each entry, check whether entry.key is equal to key. If it is, update entry.value to value and set found_key to True.\n",
    "    4. After the for loop, check whether found_key is False. If it is:\n",
    "        * Use the Entry() constructor to create a new entry with the provided key and value.\n",
    "        * Append the new entry to self.buckets[index].\n",
    "        * Update the length of the dictionary by incrementing self.length.\n",
    "\n",
    "3. Create a Dictionary instance with 5 buckets. Assign it to a variable named my_dict\n",
    "\n",
    "4. Use the put() method to put an entry with key \"my key\" and value 1."
   ]
  },
  {
   "cell_type": "code",
   "execution_count": 46,
   "id": "960322a2",
   "metadata": {},
   "outputs": [],
   "source": [
    "class Dictionary:\n",
    "    \n",
    "    def __init__(self, num_buckets):\n",
    "        self.num_buckets = num_buckets\n",
    "        self.buckets = [LinkedList() for _ in range(num_buckets)]\n",
    "        self.length = 0\n",
    "        \n",
    "    def _get_index(self, key):\n",
    "        hashcode = hash(key)\n",
    "        return hashcode % self.num_buckets\n",
    "        \n",
    "    # Add put() method here\n",
    "    def put(self, key, value):\n",
    "        index = self._get_index(key)\n",
    "        found_key = False\n",
    "        for entry in self.buckets[index]:\n",
    "            if entry.key == key:\n",
    "                entry.value = value\n",
    "                found_key = True\n",
    "        if not found_key:\n",
    "            self.buckets[index].append(Entry(key, value))\n",
    "            self.length += 1\n",
    "my_dict = Dictionary(5)\n",
    "my_dict.put(\"my key\", 1)"
   ]
  },
  {
   "cell_type": "markdown",
   "id": "87e53dfb",
   "metadata": {},
   "source": [
    "We've provided the Dictionary class from the previous screen.\n",
    "\n",
    "1. Declare a method named get_value with two arguments:\n",
    "    * self: the self-reference\n",
    "    * key: the key for which we want to get the value — we assume that the key is hashable\n",
    "\n",
    "2. Implement the get_value() method by following these steps:\n",
    "    1. Use the _get_index() method to calculate the index of the bucket for the provided key. Assign it to a variable named index.\n",
    "    2. Use a for loop to iterate over all entries in self.buckets[index] using a variable named entry. For each entry, check whether entry.key is equal to key. If it is, return entry.value.\n",
    "    3. After the for loop, raise a KeyError with argument key. Note that because of the return statement inside the for loop, this line of code is only executed if there is no matching key.\n",
    "\n",
    "3. Create Dictionary instance with 5 buckets. Assign it to a variable named my_dict.\n",
    "\n",
    "4. Use the put() method to put an entry with key \"my key\" and value 1.\n",
    "\n",
    "5. Print the get_value() method to get the value associated with key \"my key\". It should print the value 1.\n",
    "\n",
    "6. Use the put() method to put an entry with key \"my key\" and value 2.\n",
    "\n",
    "7. Print the get_value() method to get the value associated with key \"my key\". It should print the value 2.\n"
   ]
  },
  {
   "cell_type": "code",
   "execution_count": 47,
   "id": "b6461822",
   "metadata": {},
   "outputs": [
    {
     "name": "stdout",
     "output_type": "stream",
     "text": [
      "1\n",
      "2\n"
     ]
    }
   ],
   "source": [
    "class Dictionary:\n",
    "    \n",
    "    def __init__(self, num_buckets):\n",
    "        self.num_buckets = num_buckets\n",
    "        self.buckets = [LinkedList() for _ in range(num_buckets)]\n",
    "        self.length = 0\n",
    "        \n",
    "    def _get_index(self, key):\n",
    "        hashcode = hash(key)\n",
    "        return hashcode % self.num_buckets\n",
    "        \n",
    "    def put(self, key, value):\n",
    "        index = self._get_index(key)\n",
    "        found_key = False\n",
    "        for entry in self.buckets[index]:\n",
    "            if entry.key == key:\n",
    "                entry.value = value\n",
    "                found_key = True\n",
    "        if not found_key:\n",
    "            self.buckets[index].append(Entry(key, value))\n",
    "            self.length += 1\n",
    "\n",
    "    # Add get_value() method here\n",
    "    def get_value(self, key):\n",
    "        index = self._get_index(key)\n",
    "        for entry in self.buckets[index]:\n",
    "            if entry.key == key:\n",
    "                return entry.value\n",
    "        raise KeyError(key)\n",
    "        \n",
    "my_dict = Dictionary(5)\n",
    "my_dict.put(\"my key\", 1)\n",
    "print(my_dict.get_value(\"my key\"))\n",
    "my_dict.put(\"my key\", 2)\n",
    "print(my_dict.get_value(\"my key\"))"
   ]
  },
  {
   "cell_type": "markdown",
   "id": "31eb4503",
   "metadata": {},
   "source": [
    "We've provided the Dictionary class from the previous screen.\n",
    "\n",
    "1. Declare a method named delete with two arguments:\n",
    "* self: the self-reference\n",
    "* key: the key of the entry we want to remove\n",
    "\n",
    "2. Implement the delete() method by following these steps:\n",
    "    1. Use the _get_index() method to calculate the index of the bucket for the provided key. Assign it to a variable named index.\n",
    "    2. Create an empty LinkedList named new_bucket.\n",
    "    3. Use a for loop to iterate over all entries in self.buckets[index] using a variable named entry. For each entry, check whether entry.key is equal to key. If it isn't, append it to new_bucket.\n",
    "    4. Update the length of the dictionary. For this, check whether the length of new_bucket is smaller than the length of self.buckets[index]. If it is, decrement self.length.\n",
    "    5. After the for loop, assign the new_bucket to self.buckets[index] to update the bucket entries.\n",
    "\n",
    "3. Create a Dictionary instance with 5 buckets. Assign it to a variable named my_dict\n",
    "\n",
    "4. Use the put() method to put an entry with key \"my key\" and value 1.\n",
    "\n",
    "5. Use the delete() method to remove the entry with key \"my key\".\n",
    "\n",
    "6. Print the length attribute of my_dict. It should print 0."
   ]
  },
  {
   "cell_type": "code",
   "execution_count": 48,
   "id": "d5d7e65e",
   "metadata": {},
   "outputs": [
    {
     "name": "stdout",
     "output_type": "stream",
     "text": [
      "0\n"
     ]
    }
   ],
   "source": [
    "class Dictionary:\n",
    "    \n",
    "    def __init__(self, num_buckets):\n",
    "        self.num_buckets = num_buckets\n",
    "        self.buckets = [LinkedList() for _ in range(num_buckets)]\n",
    "        self.length = 0\n",
    "        \n",
    "    def _get_index(self, key):\n",
    "        hashcode = hash(key)\n",
    "        return hashcode % self.num_buckets\n",
    "        \n",
    "    def put(self, key, value):\n",
    "        index = self._get_index(key)\n",
    "        found_key = False\n",
    "        for entry in self.buckets[index]:\n",
    "            if entry.key == key:\n",
    "                entry.value = value\n",
    "                found_key = True\n",
    "        if not found_key:\n",
    "            self.buckets[index].append(Entry(key, value))\n",
    "            self.length += 1\n",
    "            \n",
    "    def get_value(self, key):\n",
    "        index = self._get_index(key)\n",
    "        for entry in self.buckets[index]:\n",
    "            if entry.key == key:\n",
    "                print(entry.key, entry.value)\n",
    "                return entry.value\n",
    "        raise KeyError(key)\n",
    "    \n",
    "    # Add delete() method here\n",
    "    def delete(self, key):\n",
    "        index = self._get_index(key)\n",
    "        new_bucket = LinkedList()\n",
    "        for entry in self.buckets[index]:\n",
    "            if entry.key != key:\n",
    "                new_bucket.append(entry)\n",
    "        if len(new_bucket) < len(self.buckets[index]):\n",
    "            self.length -= 1\n",
    "        self.buckets[index] = new_bucket\n",
    "\n",
    "my_dict = Dictionary(5)\n",
    "\n",
    "my_dict.put(\"my key\", 1)\n",
    "my_dict.delete(\"my key\")\n",
    "\n",
    "print(my_dict.length)"
   ]
  },
  {
   "cell_type": "markdown",
   "id": "89347667",
   "metadata": {},
   "source": [
    "We've provided The Dictionary class from the previous screen.\n",
    "\n",
    "1. Declare the __getitem__() method with two arguments:\n",
    "    * self: the self-reference\n",
    "    * key: the key for which we want to get the value — we assume that the key is hashable\n",
    "\n",
    "2. Implement the __getitem__() method by returning the result of calling the get_value() method with key argument.\n",
    "\n",
    "3. Declare the __setitem__() method with three arguments:\n",
    "    * self: the self-reference\n",
    "    * key: the key — we assume that the key is hashable\n",
    "    * value: the value associate with the key\n",
    "\n",
    "4. Implement the __setitem__() method by calling the put() method with key and value as arguments.\n",
    "\n",
    "5. Declare the __len__() method with only self as an argument.\n",
    "\n",
    "6. Implement it by returning the value of self.length.\n",
    "\n",
    "7. Create a Dictionary instance with 5 buckets. Assign it to a variable named my_dict\n",
    "\n",
    "8. Use bracket notation to set the value of key \"my key\" to 2.\n",
    "\n",
    "9. Use bracket notation to print the value corresponding to \"my key\". It should print 2.\n",
    "\n",
    "10. Use the len() built-in function to print the length of my_dict. It should print 1."
   ]
  },
  {
   "cell_type": "code",
   "execution_count": 49,
   "id": "76aa00f8",
   "metadata": {},
   "outputs": [
    {
     "name": "stdout",
     "output_type": "stream",
     "text": [
      "2\n",
      "1\n"
     ]
    }
   ],
   "source": [
    "class Dictionary:\n",
    "    \n",
    "    def __init__(self, num_buckets):\n",
    "        self.num_buckets = num_buckets\n",
    "        self.buckets = [LinkedList() for _ in range(num_buckets)]\n",
    "        self.length = 0\n",
    "        \n",
    "    def _get_index(self, key):\n",
    "        hashcode = hash(key)\n",
    "        return hashcode % self.num_buckets\n",
    "        \n",
    "    def put(self, key, value):\n",
    "        index = self._get_index(key)\n",
    "        found_key = False\n",
    "        for entry in self.buckets[index]:\n",
    "            if entry.key == key:\n",
    "                entry.value = value\n",
    "                found_key = True\n",
    "        if not found_key:\n",
    "            self.buckets[index].append(Entry(key, value))\n",
    "            self.length += 1\n",
    "            \n",
    "    def get_value(self, key):\n",
    "        index = self._get_index(key)\n",
    "        for entry in self.buckets[index]:\n",
    "            if entry.key == key:\n",
    "                return entry.value\n",
    "        raise KeyError(key)\n",
    "    \n",
    "    def delete(self, key):\n",
    "        index = self._get_index(key)\n",
    "        new_bucket = LinkedList()\n",
    "        for entry in self.buckets[index]:\n",
    "            if entry.key != key:\n",
    "                new_bucket.append(entry)\n",
    "        if len(new_bucket) < len(self.buckets[index]):\n",
    "            self.length -= 1\n",
    "        self.buckets[index] = new_bucket\n",
    "    \n",
    "    # Add methods here\n",
    "    def __getitem__(self, key):\n",
    "        return self.get_value(key)\n",
    "    def __setitem__(self, key, value):\n",
    "        self.put(key, value)\n",
    "    def __len__(self):\n",
    "        return self.length\n",
    "    \n",
    "my_dict = Dictionary(5)\n",
    "my_dict[\"my key\"] = 2\n",
    "print(my_dict[\"my key\"])\n",
    "print(len(my_dict))  "
   ]
  },
  {
   "cell_type": "markdown",
   "id": "fad59156",
   "metadata": {},
   "source": [
    "We've provided you with some code that you need to complete. The idea is to insert all values in the keys list into a dictionary d and measure the execution time of each insertion.\n",
    "\n",
    "1. Use a for loop over the keys list using variable key. For each key do the following:\n",
    "    1. Use the time.time() function to calculate the time before the insertion. Assign it to a variable named start.\n",
    "    2. Insert an entry with both key and value equal to key.\n",
    "    3. Use the time.time() function to calculate the time after the insertion. Assign it to a variable named end.\n",
    "    4. Append the difference between end and start to the times list.\n",
    "\n",
    "2. After the for loop, use the plot_times() function to plot the times list."
   ]
  },
  {
   "cell_type": "code",
   "execution_count": 52,
   "id": "3d55e625",
   "metadata": {},
   "outputs": [
    {
     "name": "stderr",
     "output_type": "stream",
     "text": [
      "Unable to revert mtime: /Library/Fonts\n"
     ]
    },
    {
     "data": {
      "image/png": "[encoded data removed]",
      "text/plain": [
       "<Figure size 432x288 with 1 Axes>"
      ]
     },
     "metadata": {
      "needs_background": "light"
     },
     "output_type": "display_data"
    }
   ],
   "source": [
    "import matplotlib.pyplot as plt\n",
    "\n",
    "def plot_times(times):\n",
    "    plt.plot(times)\n",
    "    plt.show()\n",
    "\n",
    "import time\n",
    "import random\n",
    "random.seed(0)\n",
    "\n",
    "times = []\n",
    "number_of_entries = 1000\n",
    "keys = range(number_of_entries)\n",
    "\n",
    "d = dict()\n",
    "\n",
    "# Add code here\n",
    "\n",
    "for key in keys:\n",
    "    start = time.time()\n",
    "    d[key] = key\n",
    "    end = time.time()\n",
    "    times.append(end - start)\n",
    "\n",
    "plot_times(times)"
   ]
  },
  {
   "cell_type": "markdown",
   "id": "c3d12833",
   "metadata": {},
   "source": [
    "We've provided you with a function plot_buckets() that, given a Dictionary instance, plots the number of elements of each of its buckets. We've already read the data into a DataFrame named employees.\n",
    "\n",
    "1. Use the Dictionary() constructor to create a dictionary with 100 buckets. Assign it to a variable named dictionary.\n",
    "\n",
    "2. Use the DataFrame.iterrows() method to iterate over all rows of the employees DataFrame using two variables named identifier and data. For each one of them, create an entry in the dictionary with key identifier and value data.\n",
    "\n",
    "3. Call the plot_buckets_sizes() function passing dictionary as argument."
   ]
  },
  {
   "cell_type": "code",
   "execution_count": 56,
   "id": "4a190a94",
   "metadata": {},
   "outputs": [
    {
     "data": {
      "image/png": "[encoded data removed]",
      "text/plain": [
       "<Figure size 432x288 with 1 Axes>"
      ]
     },
     "metadata": {
      "needs_background": "light"
     },
     "output_type": "display_data"
    }
   ],
   "source": [
    "import matplotlib.pyplot as plt\n",
    "import pandas as pd\n",
    "\n",
    "def plot_buckets_sizes(dictionary):\n",
    "    plt.bar(range(100), [len(dictionary.buckets[i]) for i in range(100)])\n",
    "    plt.show()\n",
    "    \n",
    "import pandas as pd\n",
    "employees = pd.read_csv(\"employees.csv\", index_col=\"Id\")\n",
    "\n",
    "# Add code here\n",
    "\n",
    "dictionary = Dictionary(100)\n",
    "for identifier, data in employees.iterrows():\n",
    "    dictionary[identifier] = data\n",
    "plot_buckets_sizes(dictionary)"
   ]
  },
  {
   "cell_type": "code",
   "execution_count": null,
   "id": "fe11cfb1",
   "metadata": {},
   "outputs": [],
   "source": []
  }
 ],
 "metadata": {
  "kernelspec": {
   "display_name": "Python 3 (ipykernel)",
   "language": "python",
   "name": "python3"
  },
  "language_info": {
   "codemirror_mode": {
    "name": "ipython",
    "version": 3
   },
   "file_extension": ".py",
   "mimetype": "text/x-python",
   "name": "python",
   "nbconvert_exporter": "python",
   "pygments_lexer": "ipython3",
   "version": "3.9.8"
  }
 },
 "nbformat": 4,
 "nbformat_minor": 5
}

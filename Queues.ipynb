{
 "cells": [
  {
   "cell_type": "markdown",
   "id": "1c34ea55",
   "metadata": {},
   "source": [
    "## The LinkedList class from the previous lesson is available, but we don't see the code.\n",
    "\n",
    "1. Define an empty class named Queue that extends the LinkedList class.\n",
    "\n",
    "2. Add a pass statement inside the Queue class to avoid getting an error.\n",
    "\n",
    "3. Use the Queue() constructor to create Queue instance. Assign it to a variable named queue.\n",
    "\n",
    "4. Verify that queue has access to the LinkedList attributes by printing the value of queue.length."
   ]
  },
  {
   "cell_type": "code",
   "execution_count": null,
   "id": "a4389cc3",
   "metadata": {},
   "outputs": [],
   "source": []
  }
 ],
 "metadata": {
  "kernelspec": {
   "display_name": "Python 3 (ipykernel)",
   "language": "python",
   "name": "python3"
  },
  "language_info": {
   "codemirror_mode": {
    "name": "ipython",
    "version": 3
   },
   "file_extension": ".py",
   "mimetype": "text/x-python",
   "name": "python",
   "nbconvert_exporter": "python",
   "pygments_lexer": "ipython3",
   "version": "3.9.8"
  }
 },
 "nbformat": 4,
 "nbformat_minor": 5
}

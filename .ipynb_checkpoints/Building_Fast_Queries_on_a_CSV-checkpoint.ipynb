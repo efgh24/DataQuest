{
 "cells": [
  {
   "cell_type": "code",
   "execution_count": 364,
   "id": "3c0c62dd",
   "metadata": {},
   "outputs": [],
   "source": [
    "# import csv\n",
    "# with open('laptops.csv', encoding = 'latin-1') as file:\n",
    "#     reader = csv.reader(file)\n",
    "#     header = next(reader)\n",
    "#     rows = list(reader)"
   ]
  },
  {
   "cell_type": "code",
   "execution_count": 78,
   "id": "71ab3bf6",
   "metadata": {},
   "outputs": [
    {
     "name": "stdout",
     "output_type": "stream",
     "text": [
      "['Id', 'Company', 'Product', 'TypeName', 'Inches', 'ScreenResolution', 'Cpu', 'Ram', 'Memory', 'Gpu', 'OpSys', 'Weight', 'Price_euros']\n"
     ]
    }
   ],
   "source": [
    "print(header)"
   ]
  },
  {
   "cell_type": "code",
   "execution_count": 77,
   "id": "3d135f42",
   "metadata": {},
   "outputs": [
    {
     "name": "stdout",
     "output_type": "stream",
     "text": [
      "[['1', 'Apple', 'MacBook Pro', 'Ultrabook', '13.3', 'IPS Panel Retina Display 2560x1600', 'Intel Core i5 2.3GHz', '8GB', '128GB SSD', 'Intel Iris Plus Graphics 640', 'macOS', '1.37kg', '1339.69'], ['2', 'Apple', 'Macbook Air', 'Ultrabook', '13.3', '1440x900', 'Intel Core i5 1.8GHz', '8GB', '128GB Flash Storage', 'Intel HD Graphics 6000', 'macOS', '1.34kg', '898.94'], ['3', 'HP', '250 G6', 'Notebook', '15.6', 'Full HD 1920x1080', 'Intel Core i5 7200U 2.5GHz', '8GB', '256GB SSD', 'Intel HD Graphics 620', 'No OS', '1.86kg', '575.00'], ['4', 'Apple', 'MacBook Pro', 'Ultrabook', '15.4', 'IPS Panel Retina Display 2880x1800', 'Intel Core i7 2.7GHz', '16GB', '512GB SSD', 'AMD Radeon Pro 455', 'macOS', '1.83kg', '2537.45'], ['5', 'Apple', 'MacBook Pro', 'Ultrabook', '13.3', 'IPS Panel Retina Display 2560x1600', 'Intel Core i5 3.1GHz', '8GB', '256GB SSD', 'Intel Iris Plus Graphics 650', 'macOS', '1.37kg', '1803.60']]\n"
     ]
    }
   ],
   "source": [
    "print(rows[0:5])"
   ]
  },
  {
   "cell_type": "code",
   "execution_count": 73,
   "id": "0765a3fd",
   "metadata": {},
   "outputs": [],
   "source": [
    "def explore_data(dataset, start, end, rows_and_columns=False):\n",
    "    dataset_slice = dataset[start:end]    \n",
    "    for row in dataset_slice:\n",
    "        print(row)\n",
    "        print('\\n') # adds a new (empty) line between rows\n",
    "        \n",
    "    if rows_and_columns:\n",
    "        print('Number of rows:', len(dataset))\n",
    "        print('Number of columns:', len(dataset[0]))"
   ]
  },
  {
   "cell_type": "code",
   "execution_count": 74,
   "id": "e5a38886",
   "metadata": {},
   "outputs": [
    {
     "name": "stdout",
     "output_type": "stream",
     "text": [
      "['1', 'Apple', 'MacBook Pro', 'Ultrabook', '13.3', 'IPS Panel Retina Display 2560x1600', 'Intel Core i5 2.3GHz', '8GB', '128GB SSD', 'Intel Iris Plus Graphics 640', 'macOS', '1.37kg', '1339.69']\n",
      "\n",
      "\n",
      "['2', 'Apple', 'Macbook Air', 'Ultrabook', '13.3', '1440x900', 'Intel Core i5 1.8GHz', '8GB', '128GB Flash Storage', 'Intel HD Graphics 6000', 'macOS', '1.34kg', '898.94']\n",
      "\n",
      "\n",
      "['3', 'HP', '250 G6', 'Notebook', '15.6', 'Full HD 1920x1080', 'Intel Core i5 7200U 2.5GHz', '8GB', '256GB SSD', 'Intel HD Graphics 620', 'No OS', '1.86kg', '575.00']\n",
      "\n",
      "\n",
      "['4', 'Apple', 'MacBook Pro', 'Ultrabook', '15.4', 'IPS Panel Retina Display 2880x1800', 'Intel Core i7 2.7GHz', '16GB', '512GB SSD', 'AMD Radeon Pro 455', 'macOS', '1.83kg', '2537.45']\n",
      "\n",
      "\n",
      "['5', 'Apple', 'MacBook Pro', 'Ultrabook', '13.3', 'IPS Panel Retina Display 2560x1600', 'Intel Core i5 3.1GHz', '8GB', '256GB SSD', 'Intel Iris Plus Graphics 650', 'macOS', '1.37kg', '1803.60']\n",
      "\n",
      "\n"
     ]
    }
   ],
   "source": [
    "explore_data(rows,0,5)"
   ]
  },
  {
   "cell_type": "markdown",
   "id": "bc24bc38",
   "metadata": {},
   "source": [
    "## Cleaning up the dataset\n",
    "\n",
    "1. Convert ID column to integer\n",
    "2. Convert Inches to float\n",
    "3. Convert price_euros to float"
   ]
  },
  {
   "cell_type": "code",
   "execution_count": 352,
   "id": "21d614dc",
   "metadata": {},
   "outputs": [],
   "source": [
    "class Inventory:\n",
    "    def __init__(self, csv_filename):\n",
    "        with open(csv_filename, encoding = 'latin-1') as file:\n",
    "            reader = csv.reader(file)\n",
    "            self.data = list(reader)\n",
    "            self.header = self.data[0]\n",
    "            self.rows = self.data[1:]\n",
    "#             self.header = next(reader)\n",
    "#             self.rows = list(reader)\n",
    "            for row in self.rows:\n",
    "                price  = row[12]\n",
    "                price_split = price.split('.')\n",
    "                row[12] = price_split[0]\n",
    "            self.id_to_row = {}\n",
    "            for row in self.rows:\n",
    "                self.id_to_row[row[0]] = row\n",
    "            self.prices = []\n",
    "            for row in self.rows:\n",
    "                self.prices.append(str(row[12]))\n",
    "            self.rows_by_price = sorted(self.rows[12])\n",
    "    def get_laptop_from_id_fast(self, laptop_id):\n",
    "        if laptop_id in self.id_to_row.keys():\n",
    "            return self.id_to_row[laptop_id]\n",
    "        else:\n",
    "            'None'\n",
    "    def get_laptop_from_id(self, laptop_id):\n",
    "        lid = int(laptop_id)\n",
    "        check = lid - 1\n",
    "        scheck = str(check)\n",
    "        for row in self.rows:\n",
    "            if row[0] == scheck:\n",
    "                return row\n",
    "            else:\n",
    "                return 'None'\n",
    "    def check_promotion_dollars(self, dollars): \n",
    "        for row in self.rows:\n",
    "            if row[12] == dollars:\n",
    "                return True\n",
    "            for i in self.rows:\n",
    "                if row[12] + i[12] == dollars:\n",
    "                    return True\n",
    "                else:\n",
    "                    False\n",
    "    def check_promotion_dollars_fast(self, dollars):\n",
    "        dollars = str(dollars)\n",
    "        if dollars in self.prices:\n",
    "            return True\n",
    "            for i in self.prices:\n",
    "                if int(dollars) + int(i) == int(dollars):\n",
    "                    return True\n",
    "                else:\n",
    "                    False"
   ]
  },
  {
   "cell_type": "code",
   "execution_count": 353,
   "id": "148d301b",
   "metadata": {},
   "outputs": [
    {
     "data": {
      "text/plain": [
       "['Id',\n",
       " 'Company',\n",
       " 'Product',\n",
       " 'TypeName',\n",
       " 'Inches',\n",
       " 'ScreenResolution',\n",
       " 'Cpu',\n",
       " 'Ram',\n",
       " 'Memory',\n",
       " 'Gpu',\n",
       " 'OpSys',\n",
       " 'Weight',\n",
       " 'Price_euros']"
      ]
     },
     "execution_count": 353,
     "metadata": {},
     "output_type": "execute_result"
    }
   ],
   "source": [
    "x = Inventory('laptops.csv')\n",
    "x.header"
   ]
  },
  {
   "cell_type": "code",
   "execution_count": 354,
   "id": "3759ca17",
   "metadata": {},
   "outputs": [
    {
     "data": {
      "text/plain": [
       "1303"
      ]
     },
     "execution_count": 354,
     "metadata": {},
     "output_type": "execute_result"
    }
   ],
   "source": [
    "len(x.rows)"
   ]
  },
  {
   "cell_type": "code",
   "execution_count": 355,
   "id": "6e43d209",
   "metadata": {},
   "outputs": [
    {
     "data": {
      "text/plain": [
       "[['1',\n",
       "  'Apple',\n",
       "  'MacBook Pro',\n",
       "  'Ultrabook',\n",
       "  '13.3',\n",
       "  'IPS Panel Retina Display 2560x1600',\n",
       "  'Intel Core i5 2.3GHz',\n",
       "  '8GB',\n",
       "  '128GB SSD',\n",
       "  'Intel Iris Plus Graphics 640',\n",
       "  'macOS',\n",
       "  '1.37kg',\n",
       "  '1339'],\n",
       " ['2',\n",
       "  'Apple',\n",
       "  'Macbook Air',\n",
       "  'Ultrabook',\n",
       "  '13.3',\n",
       "  '1440x900',\n",
       "  'Intel Core i5 1.8GHz',\n",
       "  '8GB',\n",
       "  '128GB Flash Storage',\n",
       "  'Intel HD Graphics 6000',\n",
       "  'macOS',\n",
       "  '1.34kg',\n",
       "  '898'],\n",
       " ['3',\n",
       "  'HP',\n",
       "  '250 G6',\n",
       "  'Notebook',\n",
       "  '15.6',\n",
       "  'Full HD 1920x1080',\n",
       "  'Intel Core i5 7200U 2.5GHz',\n",
       "  '8GB',\n",
       "  '256GB SSD',\n",
       "  'Intel HD Graphics 620',\n",
       "  'No OS',\n",
       "  '1.86kg',\n",
       "  '575']]"
      ]
     },
     "execution_count": 355,
     "metadata": {},
     "output_type": "execute_result"
    }
   ],
   "source": [
    "x.rows[0:3]"
   ]
  },
  {
   "cell_type": "code",
   "execution_count": 356,
   "id": "f0c7a57d",
   "metadata": {},
   "outputs": [
    {
     "data": {
      "text/plain": [
       "['1',\n",
       " 'Apple',\n",
       " 'MacBook Pro',\n",
       " 'Ultrabook',\n",
       " '13.3',\n",
       " 'IPS Panel Retina Display 2560x1600',\n",
       " 'Intel Core i5 2.3GHz',\n",
       " '8GB',\n",
       " '128GB SSD',\n",
       " 'Intel Iris Plus Graphics 640',\n",
       " 'macOS',\n",
       " '1.37kg',\n",
       " '1339']"
      ]
     },
     "execution_count": 356,
     "metadata": {},
     "output_type": "execute_result"
    }
   ],
   "source": [
    "x.rows[0]"
   ]
  },
  {
   "cell_type": "code",
   "execution_count": 357,
   "id": "c4a4e0b4",
   "metadata": {},
   "outputs": [
    {
     "data": {
      "text/plain": [
       "'None'"
      ]
     },
     "execution_count": 357,
     "metadata": {},
     "output_type": "execute_result"
    }
   ],
   "source": [
    "x.get_laptop_from_id('3')"
   ]
  },
  {
   "cell_type": "code",
   "execution_count": 361,
   "id": "6ff6bac8",
   "metadata": {},
   "outputs": [
    {
     "name": "stdout",
     "output_type": "stream",
     "text": [
      "None\n"
     ]
    }
   ],
   "source": [
    "print(x.get_laptop_from_id('3'))"
   ]
  },
  {
   "cell_type": "code",
   "execution_count": 362,
   "id": "10f4a71f",
   "metadata": {},
   "outputs": [
    {
     "data": {
      "text/plain": [
       "['2',\n",
       " 'Apple',\n",
       " 'Macbook Air',\n",
       " 'Ultrabook',\n",
       " '13.3',\n",
       " '1440x900',\n",
       " 'Intel Core i5 1.8GHz',\n",
       " '8GB',\n",
       " '128GB Flash Storage',\n",
       " 'Intel HD Graphics 6000',\n",
       " 'macOS',\n",
       " '1.34kg',\n",
       " '898']"
      ]
     },
     "execution_count": 362,
     "metadata": {},
     "output_type": "execute_result"
    }
   ],
   "source": [
    "x = Inventory('laptops.csv')\n",
    "x.get_laptop_from_id_fast('2') "
   ]
  },
  {
   "cell_type": "code",
   "execution_count": 363,
   "id": "b4728b7d",
   "metadata": {},
   "outputs": [
    {
     "data": {
      "text/plain": [
       "['4',\n",
       " 'Apple',\n",
       " 'MacBook Pro',\n",
       " 'Ultrabook',\n",
       " '15.4',\n",
       " 'IPS Panel Retina Display 2880x1800',\n",
       " 'Intel Core i7 2.7GHz',\n",
       " '16GB',\n",
       " '512GB SSD',\n",
       " 'AMD Radeon Pro 455',\n",
       " 'macOS',\n",
       " '1.83kg',\n",
       " '2537']"
      ]
     },
     "execution_count": 363,
     "metadata": {},
     "output_type": "execute_result"
    }
   ],
   "source": [
    "x.id_to_row['4']"
   ]
  },
  {
   "cell_type": "code",
   "execution_count": 250,
   "id": "3b2be98c",
   "metadata": {},
   "outputs": [
    {
     "data": {
      "text/plain": [
       "['5',\n",
       " 'Apple',\n",
       " 'MacBook Pro',\n",
       " 'Ultrabook',\n",
       " '13.3',\n",
       " 'IPS Panel Retina Display 2560x1600',\n",
       " 'Intel Core i5 3.1GHz',\n",
       " '8GB',\n",
       " '256GB SSD',\n",
       " 'Intel Iris Plus Graphics 650',\n",
       " 'macOS',\n",
       " '1.37kg',\n",
       " '1803']"
      ]
     },
     "execution_count": 250,
     "metadata": {},
     "output_type": "execute_result"
    }
   ],
   "source": [
    "x.get_laptop_from_id_fast('5') "
   ]
  },
  {
   "cell_type": "code",
   "execution_count": 236,
   "id": "0081fad4",
   "metadata": {},
   "outputs": [
    {
     "data": {
      "text/plain": [
       "['8',\n",
       " 'Apple',\n",
       " 'Macbook Air',\n",
       " 'Ultrabook',\n",
       " '13.3',\n",
       " '1440x900',\n",
       " 'Intel Core i5 1.8GHz',\n",
       " '8GB',\n",
       " '256GB Flash Storage',\n",
       " 'Intel HD Graphics 6000',\n",
       " 'macOS',\n",
       " '1.34kg',\n",
       " '1158']"
      ]
     },
     "execution_count": 236,
     "metadata": {},
     "output_type": "execute_result"
    }
   ],
   "source": [
    "x.get_laptop_from_id_fast('8') "
   ]
  },
  {
   "cell_type": "code",
   "execution_count": 251,
   "id": "893882f9",
   "metadata": {},
   "outputs": [
    {
     "name": "stdout",
     "output_type": "stream",
     "text": [
      "['7', 'Apple', 'MacBook Pro', 'Ultrabook', '15.4', 'IPS Panel Retina Display 2880x1800', 'Intel Core i7 2.2GHz', '16GB', '256GB Flash Storage', 'Intel Iris Pro Graphics', 'Mac OS X', '2.04kg', '2139']\n"
     ]
    }
   ],
   "source": [
    "print(x.get_laptop_from_id_fast('7') )"
   ]
  },
  {
   "cell_type": "code",
   "execution_count": 331,
   "id": "af642b6e",
   "metadata": {},
   "outputs": [
    {
     "ename": "ValueError",
     "evalue": "invalid literal for int() with base 10: '['",
     "output_type": "error",
     "traceback": [
      "\u001b[0;31m---------------------------------------------------------------------------\u001b[0m",
      "\u001b[0;31mValueError\u001b[0m                                Traceback (most recent call last)",
      "\u001b[0;32m/var/folders/kw/srzmwfqn4sbcw3361mxwtgg80000gn/T/ipykernel_42890/3060367837.py\u001b[0m in \u001b[0;36m<module>\u001b[0;34m\u001b[0m\n\u001b[1;32m     14\u001b[0m \u001b[0;32mfor\u001b[0m \u001b[0meach\u001b[0m \u001b[0;32min\u001b[0m \u001b[0mids\u001b[0m\u001b[0;34m:\u001b[0m\u001b[0;34m\u001b[0m\u001b[0;34m\u001b[0m\u001b[0m\n\u001b[1;32m     15\u001b[0m     \u001b[0mstart\u001b[0m \u001b[0;34m=\u001b[0m \u001b[0mtime\u001b[0m\u001b[0;34m.\u001b[0m\u001b[0mtime\u001b[0m\u001b[0;34m(\u001b[0m\u001b[0;34m)\u001b[0m\u001b[0;34m\u001b[0m\u001b[0;34m\u001b[0m\u001b[0m\n\u001b[0;32m---> 16\u001b[0;31m     \u001b[0mx\u001b[0m\u001b[0;34m.\u001b[0m\u001b[0mget_laptop_from_id\u001b[0m\u001b[0;34m(\u001b[0m\u001b[0meach\u001b[0m\u001b[0;34m)\u001b[0m\u001b[0;34m\u001b[0m\u001b[0;34m\u001b[0m\u001b[0m\n\u001b[0m\u001b[1;32m     17\u001b[0m     \u001b[0mend\u001b[0m \u001b[0;34m=\u001b[0m \u001b[0mtime\u001b[0m\u001b[0;34m.\u001b[0m\u001b[0mtime\u001b[0m\u001b[0;34m(\u001b[0m\u001b[0;34m)\u001b[0m\u001b[0;34m\u001b[0m\u001b[0;34m\u001b[0m\u001b[0m\n\u001b[1;32m     18\u001b[0m     \u001b[0mtotal_time_no_dict\u001b[0m \u001b[0;34m=\u001b[0m \u001b[0mend\u001b[0m \u001b[0;34m-\u001b[0m \u001b[0mstart\u001b[0m\u001b[0;34m\u001b[0m\u001b[0;34m\u001b[0m\u001b[0m\n",
      "\u001b[0;32m/var/folders/kw/srzmwfqn4sbcw3361mxwtgg80000gn/T/ipykernel_42890/3762682.py\u001b[0m in \u001b[0;36mget_laptop_from_id\u001b[0;34m(self, laptop_id)\u001b[0m\n\u001b[1;32m     25\u001b[0m             \u001b[0;34m'None'\u001b[0m\u001b[0;34m\u001b[0m\u001b[0;34m\u001b[0m\u001b[0m\n\u001b[1;32m     26\u001b[0m     \u001b[0;32mdef\u001b[0m \u001b[0mget_laptop_from_id\u001b[0m\u001b[0;34m(\u001b[0m\u001b[0mself\u001b[0m\u001b[0;34m,\u001b[0m \u001b[0mlaptop_id\u001b[0m\u001b[0;34m)\u001b[0m\u001b[0;34m:\u001b[0m\u001b[0;34m\u001b[0m\u001b[0;34m\u001b[0m\u001b[0m\n\u001b[0;32m---> 27\u001b[0;31m         \u001b[0mlid\u001b[0m \u001b[0;34m=\u001b[0m \u001b[0mint\u001b[0m\u001b[0;34m(\u001b[0m\u001b[0mlaptop_id\u001b[0m\u001b[0;34m)\u001b[0m\u001b[0;34m\u001b[0m\u001b[0;34m\u001b[0m\u001b[0m\n\u001b[0m\u001b[1;32m     28\u001b[0m         \u001b[0;32mfor\u001b[0m \u001b[0mrow\u001b[0m \u001b[0;32min\u001b[0m \u001b[0mself\u001b[0m\u001b[0;34m.\u001b[0m\u001b[0mrows\u001b[0m\u001b[0;34m:\u001b[0m\u001b[0;34m\u001b[0m\u001b[0;34m\u001b[0m\u001b[0m\n\u001b[1;32m     29\u001b[0m             \u001b[0mcheck\u001b[0m \u001b[0;34m=\u001b[0m \u001b[0mlid\u001b[0m \u001b[0;34m-\u001b[0m \u001b[0;36m1\u001b[0m\u001b[0;34m\u001b[0m\u001b[0;34m\u001b[0m\u001b[0m\n",
      "\u001b[0;31mValueError\u001b[0m: invalid literal for int() with base 10: '['"
     ]
    }
   ],
   "source": [
    "import time\n",
    "import random\n",
    "\n",
    "N = 10000\n",
    "\n",
    "ids = [random.randint(1000000, 9999999) for _ in range(N)]\n",
    "\n",
    "ids = str(ids)\n",
    "\n",
    "x = Inventory('laptops.csv')\n",
    "\n",
    "total_time_no_dict = 0 \n",
    "\n",
    "for each in ids:\n",
    "    start = time.time()\n",
    "    x.get_laptop_from_id(each)\n",
    "    end = time.time()\n",
    "    total_time_no_dict = end - start\n",
    "\n",
    "total_time_dict = 0\n",
    "for each in ids:\n",
    "    start = time.time()\n",
    "    x.get_laptop_from_id_fast(each)\n",
    "    end = time.time()\n",
    "    total_time_dict = end - start\n",
    "\n",
    "print(total_time_no_dict,total_time_dict)"
   ]
  },
  {
   "cell_type": "code",
   "execution_count": 237,
   "id": "3e5db854",
   "metadata": {},
   "outputs": [
    {
     "name": "stdout",
     "output_type": "stream",
     "text": [
      "None\n"
     ]
    }
   ],
   "source": [
    "x = Inventory('laptops.csv')\n",
    "print(x.check_promotion_dollars(1000))"
   ]
  },
  {
   "cell_type": "code",
   "execution_count": 238,
   "id": "7a5ceab2",
   "metadata": {},
   "outputs": [
    {
     "name": "stdout",
     "output_type": "stream",
     "text": [
      "None\n"
     ]
    }
   ],
   "source": [
    "x = Inventory('laptops.csv')\n",
    "print(x.check_promotion_dollars(442) )"
   ]
  },
  {
   "cell_type": "code",
   "execution_count": 239,
   "id": "a3c6f026",
   "metadata": {},
   "outputs": [
    {
     "name": "stdout",
     "output_type": "stream",
     "text": [
      "None\n"
     ]
    }
   ],
   "source": [
    "x = Inventory('laptops.csv')\n",
    "print(x.check_promotion_dollars_fast(422) )"
   ]
  },
  {
   "cell_type": "code",
   "execution_count": null,
   "id": "98303d4a",
   "metadata": {},
   "outputs": [],
   "source": [
    "import time\n",
    "import random\n",
    "\n",
    "N = 100\n",
    "\n",
    "prices = [random.randint(100, 5000) for _ in range(N)]\n",
    "\n",
    "prices = str(prices)\n",
    "\n",
    "x = Inventory('laptops.csv')\n",
    "\n",
    "total_time_no_set = 0 \n",
    "\n",
    "for price in prices:\n",
    "    start = time.time()\n",
    "    x.check_promotion_dollars(price)\n",
    "    end = time.time()\n",
    "    total_time_no_set = end - start\n",
    "\n",
    "total_time_set = 0\n",
    "for price in prices:\n",
    "    start = time.time()\n",
    "    x.get_laptop_from_id_fast(price)\n",
    "    end = time.time()\n",
    "    total_time_set = end - start\n",
    "\n",
    "print(total_time_no_set,total_time_set)"
   ]
  }
 ],
 "metadata": {
  "kernelspec": {
   "display_name": "Python 3 (ipykernel)",
   "language": "python",
   "name": "python3"
  },
  "language_info": {
   "codemirror_mode": {
    "name": "ipython",
    "version": 3
   },
   "file_extension": ".py",
   "mimetype": "text/x-python",
   "name": "python",
   "nbconvert_exporter": "python",
   "pygments_lexer": "ipython3",
   "version": "3.9.8"
  }
 },
 "nbformat": 4,
 "nbformat_minor": 5
}

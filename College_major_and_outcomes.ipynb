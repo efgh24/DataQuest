{
 "cells": [
  {
   "cell_type": "markdown",
   "id": "07bc6b34",
   "metadata": {},
   "source": [
    "## The American Community Survey data on college majors and job outcomes contains the 2010-2012 recent college grads only. \n",
    "\n",
    "### Here are the descriptions for the columns:\n",
    "\n",
    "* Rank: \tRank by median earnings\n",
    "* Major_code: \tMajor code, FO1DP in ACS PUMS\n",
    "* Major: \tMajor description\n",
    "* Major_category: \tCategory of major from Carnevale et al\n",
    "* Total: \tTotal number of people with major\n",
    "* Sample_size: \tSample size (unweighted) of full-time, year-round ONLY (used for earnings)\n",
    "* Men: \tMale graduates\n",
    "* Women: \tFemale graduates\n",
    "* ShareWomen: \tWomen as share of total\n",
    "* Employed: \tNumber employed (ESR == 1 or 2)\n",
    "* Full_time: \tEmployed 35 hours or more\n",
    "* Part_time: \tEmployed less than 35 hours\n",
    "* Full_time_year_round: \tEmployed at least 50 weeks (WKW == 1) and at least 35 hours (WKHP >= 35)\n",
    "* Unemployed: \tNumber unemployed (ESR == 3)\n",
    "* Unemployment_rate: \tUnemployed / (Unemployed + Employed)\n",
    "* Median: \tMedian earnings of full-time, year-round workers\n",
    "* P25th: \t25th percentile of earnings\n",
    "* P75th: \t75th percentile of earnings\n",
    "* College_jobs: \tNumber with job requiring a college degree\n",
    "* Non_college_jobs: \tNumber with job not requiring a college degree\n",
    "* Low_wage_jobs: \tNumber in low-wage service jobs"
   ]
  },
  {
   "cell_type": "code",
   "execution_count": 3,
   "id": "c5feda03",
   "metadata": {},
   "outputs": [
    {
     "name": "stdout",
     "output_type": "stream",
     "text": [
      "[(0, 1, 2419, 'PETROLEUM ENGINEERING', 'Engineering', 2339, 36, 2057, 282, 0.120564344, 1976, 1849, 270, 1207, 37, 0.018380527, 110000, 95000, 125000, 1534, 364, 193), (1, 2, 2416, 'MINING AND MINERAL ENGINEERING', 'Engineering', 756, 7, 679, 77, 0.10185185199999999, 640, 556, 170, 388, 85, 0.117241379, 75000, 55000, 90000, 350, 257, 50)]\n"
     ]
    }
   ],
   "source": [
    "import sqlite3\n",
    "conn = sqlite3.connect('jobs.db')\n",
    "cursor = conn.cursor()\n",
    "\n",
    "query = \"select * from recent_grads;\"\n",
    "cursor.execute(query)\n",
    "results = cursor.fetchall()\n",
    "print(results[0:2])"
   ]
  },
  {
   "cell_type": "markdown",
   "id": "a4f07bbe",
   "metadata": {},
   "source": [
    "* Write a query that returns all of the values in the Major column from the recent_grads table.\n",
    "* Store the full results set (a list of tuples) in majors.\n",
    "* Then, print the first three tuples in majors."
   ]
  },
  {
   "cell_type": "code",
   "execution_count": 5,
   "id": "e09376bf",
   "metadata": {},
   "outputs": [
    {
     "name": "stdout",
     "output_type": "stream",
     "text": [
      "[('PETROLEUM ENGINEERING',), ('MINING AND MINERAL ENGINEERING',), ('METALLURGICAL ENGINEERING',)]\n"
     ]
    }
   ],
   "source": [
    "query1 = \"select Major from recent_grads;\"\n",
    "cursor.execute(query1)\n",
    "majors = cursor.fetchall()\n",
    "print(majors[0:3])"
   ]
  },
  {
   "cell_type": "markdown",
   "id": "4a8cfa60",
   "metadata": {},
   "source": [
    "* Write and run a query that returns the Major and Major_category columns from recent_grads.\n",
    "* Then, fetch the first five results and store them as five_results.\n"
   ]
  },
  {
   "cell_type": "code",
   "execution_count": 6,
   "id": "0a2d0ea1",
   "metadata": {},
   "outputs": [
    {
     "name": "stdout",
     "output_type": "stream",
     "text": [
      "[('PETROLEUM ENGINEERING', 'Engineering'), ('MINING AND MINERAL ENGINEERING', 'Engineering'), ('METALLURGICAL ENGINEERING', 'Engineering'), ('NAVAL ARCHITECTURE AND MARINE ENGINEERING', 'Engineering'), ('CHEMICAL ENGINEERING', 'Engineering')]\n"
     ]
    }
   ],
   "source": [
    "query1 = \"select Major,Major_category from recent_grads;\"\n",
    "cursor.execute(query1)\n",
    "five_results = cursor.fetchmany(5)\n",
    "print(five_results)"
   ]
  },
  {
   "cell_type": "markdown",
   "id": "e6df9799",
   "metadata": {},
   "source": [
    "* Close the connection to the database using the Connection instance method close()."
   ]
  },
  {
   "cell_type": "code",
   "execution_count": 7,
   "id": "3fe68688",
   "metadata": {},
   "outputs": [],
   "source": [
    "conn.close()"
   ]
  },
  {
   "cell_type": "markdown",
   "id": "c3fe0dfe",
   "metadata": {},
   "source": [
    "* Connect to the database jobs2.db, which contains the same data as jobs.db.\n",
    "* Write and execute a query that returns all of the majors (Major) in reverse alphabetical order (Z to A).\n",
    "* Assign the full result set to reverse_alphabetical.\n",
    "* Finally, close the connection to the database.\n"
   ]
  },
  {
   "cell_type": "code",
   "execution_count": 10,
   "id": "8bdf1a28",
   "metadata": {},
   "outputs": [
    {
     "name": "stdout",
     "output_type": "stream",
     "text": [
      "[('ZOOLOGY',), ('VISUAL AND PERFORMING ARTS',), ('UNITED STATES HISTORY',), ('TREATMENT THERAPY PROFESSIONS',), ('TRANSPORTATION SCIENCES AND TECHNOLOGIES',)]\n"
     ]
    }
   ],
   "source": [
    "import sqlite3\n",
    "conn = sqlite3.connect('jobs.db')\n",
    "cursor = conn.cursor()\n",
    "\n",
    "query1 = \"select Major from recent_grads order by 1 desc;\"\n",
    "cursor.execute(query1)\n",
    "reverse_alphabetical = cursor.fetchall()\n",
    "print(reverse_alphabetical[:5])\n",
    "conn.close()"
   ]
  },
  {
   "cell_type": "code",
   "execution_count": null,
   "id": "9a94c0ce",
   "metadata": {},
   "outputs": [],
   "source": []
  }
 ],
 "metadata": {
  "kernelspec": {
   "display_name": "Python 3 (ipykernel)",
   "language": "python",
   "name": "python3"
  },
  "language_info": {
   "codemirror_mode": {
    "name": "ipython",
    "version": 3
   },
   "file_extension": ".py",
   "mimetype": "text/x-python",
   "name": "python",
   "nbconvert_exporter": "python",
   "pygments_lexer": "ipython3",
   "version": "3.9.8"
  }
 },
 "nbformat": 4,
 "nbformat_minor": 5
}

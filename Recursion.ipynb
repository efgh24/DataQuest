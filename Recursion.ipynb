{
 "cells": [
  {
   "cell_type": "markdown",
   "id": "94dffb33",
   "metadata": {},
   "source": [
    "1. Define a function named list_len() with one argument named lst. You may assume that lst is a list.\n",
    "\n",
    "2. Implement the list_len() function so that it recursively calculates the length of lst:\n",
    "    * Base case: check if the list is empty using if not list: as in the learn section. If this is true, then return 0 since the length of an empty list is zero.\n",
    "    * General case: the length of non-empty list lst is equal to 1 plus the length of lst[1:]. Therefore, we can return 1 + list_len(lst[1:]).\n",
    "3. Test your function by executing it on the provided fruits list. Assign the result to num_fruits."
   ]
  },
  {
   "cell_type": "code",
   "execution_count": 2,
   "id": "27ed924a",
   "metadata": {},
   "outputs": [],
   "source": [
    "fruits = [\"apple\", \"orange\", \"pear\", \"fig\", \"passionfruit\"]\n",
    "\n",
    "def list_len(lst):\n",
    "    if not lst:\n",
    "        return 0\n",
    "    return 1 + list_len(lst[1:])\n",
    "\n",
    "num_fruits = list_len(fruits)"
   ]
  },
  {
   "cell_type": "markdown",
   "id": "0a8a9f3a",
   "metadata": {},
   "source": [
    "Let's verify that we get an error when we remove the base case of a recursive function.\n",
    "\n",
    "1. Remove the base case from the list_len() function.\n",
    "\n",
    "2. Execute the list_len() function on a list of your choice. **You'll get an error, which is the expected result.**\n"
   ]
  },
  {
   "cell_type": "code",
   "execution_count": 3,
   "id": "4fcf5f66",
   "metadata": {},
   "outputs": [
    {
     "ename": "RecursionError",
     "evalue": "maximum recursion depth exceeded",
     "output_type": "error",
     "traceback": [
      "\u001b[0;31m---------------------------------------------------------------------------\u001b[0m",
      "\u001b[0;31mRecursionError\u001b[0m                            Traceback (most recent call last)",
      "\u001b[0;32m/var/folders/kw/srzmwfqn4sbcw3361mxwtgg80000gn/T/ipykernel_90742/1196629453.py\u001b[0m in \u001b[0;36m<module>\u001b[0;34m\u001b[0m\n\u001b[1;32m      6\u001b[0m     \u001b[0;32mreturn\u001b[0m \u001b[0;36m1\u001b[0m \u001b[0;34m+\u001b[0m \u001b[0mlist_len\u001b[0m\u001b[0;34m(\u001b[0m\u001b[0mlst\u001b[0m\u001b[0;34m[\u001b[0m\u001b[0;36m1\u001b[0m\u001b[0;34m:\u001b[0m\u001b[0;34m]\u001b[0m\u001b[0;34m)\u001b[0m\u001b[0;34m\u001b[0m\u001b[0;34m\u001b[0m\u001b[0m\n\u001b[1;32m      7\u001b[0m \u001b[0;34m\u001b[0m\u001b[0m\n\u001b[0;32m----> 8\u001b[0;31m \u001b[0mlist_len\u001b[0m\u001b[0;34m(\u001b[0m\u001b[0mfruits\u001b[0m\u001b[0;34m)\u001b[0m\u001b[0;34m\u001b[0m\u001b[0;34m\u001b[0m\u001b[0m\n\u001b[0m",
      "\u001b[0;32m/var/folders/kw/srzmwfqn4sbcw3361mxwtgg80000gn/T/ipykernel_90742/1196629453.py\u001b[0m in \u001b[0;36mlist_len\u001b[0;34m(lst)\u001b[0m\n\u001b[1;32m      4\u001b[0m     \u001b[0;31m# if not lst:\u001b[0m\u001b[0;34m\u001b[0m\u001b[0;34m\u001b[0m\u001b[0m\n\u001b[1;32m      5\u001b[0m     \u001b[0;31m#     return 0\u001b[0m\u001b[0;34m\u001b[0m\u001b[0;34m\u001b[0m\u001b[0m\n\u001b[0;32m----> 6\u001b[0;31m     \u001b[0;32mreturn\u001b[0m \u001b[0;36m1\u001b[0m \u001b[0;34m+\u001b[0m \u001b[0mlist_len\u001b[0m\u001b[0;34m(\u001b[0m\u001b[0mlst\u001b[0m\u001b[0;34m[\u001b[0m\u001b[0;36m1\u001b[0m\u001b[0;34m:\u001b[0m\u001b[0;34m]\u001b[0m\u001b[0;34m)\u001b[0m\u001b[0;34m\u001b[0m\u001b[0;34m\u001b[0m\u001b[0m\n\u001b[0m\u001b[1;32m      7\u001b[0m \u001b[0;34m\u001b[0m\u001b[0m\n\u001b[1;32m      8\u001b[0m \u001b[0mlist_len\u001b[0m\u001b[0;34m(\u001b[0m\u001b[0mfruits\u001b[0m\u001b[0;34m)\u001b[0m\u001b[0;34m\u001b[0m\u001b[0;34m\u001b[0m\u001b[0m\n",
      "... last 1 frames repeated, from the frame below ...\n",
      "\u001b[0;32m/var/folders/kw/srzmwfqn4sbcw3361mxwtgg80000gn/T/ipykernel_90742/1196629453.py\u001b[0m in \u001b[0;36mlist_len\u001b[0;34m(lst)\u001b[0m\n\u001b[1;32m      4\u001b[0m     \u001b[0;31m# if not lst:\u001b[0m\u001b[0;34m\u001b[0m\u001b[0;34m\u001b[0m\u001b[0m\n\u001b[1;32m      5\u001b[0m     \u001b[0;31m#     return 0\u001b[0m\u001b[0;34m\u001b[0m\u001b[0;34m\u001b[0m\u001b[0m\n\u001b[0;32m----> 6\u001b[0;31m     \u001b[0;32mreturn\u001b[0m \u001b[0;36m1\u001b[0m \u001b[0;34m+\u001b[0m \u001b[0mlist_len\u001b[0m\u001b[0;34m(\u001b[0m\u001b[0mlst\u001b[0m\u001b[0;34m[\u001b[0m\u001b[0;36m1\u001b[0m\u001b[0;34m:\u001b[0m\u001b[0;34m]\u001b[0m\u001b[0;34m)\u001b[0m\u001b[0;34m\u001b[0m\u001b[0;34m\u001b[0m\u001b[0m\n\u001b[0m\u001b[1;32m      7\u001b[0m \u001b[0;34m\u001b[0m\u001b[0m\n\u001b[1;32m      8\u001b[0m \u001b[0mlist_len\u001b[0m\u001b[0;34m(\u001b[0m\u001b[0mfruits\u001b[0m\u001b[0;34m)\u001b[0m\u001b[0;34m\u001b[0m\u001b[0;34m\u001b[0m\u001b[0m\n",
      "\u001b[0;31mRecursionError\u001b[0m: maximum recursion depth exceeded"
     ]
    }
   ],
   "source": [
    "fruits = [\"apple\", \"orange\", \"pear\", \"fig\", \"passionfruit\"]\n",
    "\n",
    "def list_len(lst):\n",
    "    # if not lst:\n",
    "    #     return 0\n",
    "    return 1 + list_len(lst[1:])\n",
    "\n",
    "list_len(fruits)"
   ]
  },
  {
   "cell_type": "markdown",
   "id": "cd6324df",
   "metadata": {},
   "source": [
    "We've provided you with a partial implementation of the solve_hanoi() function. It already contains the base case and the second subproblem of the general case. Your goal is to implement the recursive calls that solve the first and third subproblems.\n",
    "\n",
    "1. Below the #Instruction 1 comment make a recursive call to solve_hanoi() to move a stack of size num_disks - 1 from first_peg to middle_peg using last_peg as temporary peg.\n",
    "\n",
    "2. Below the #Instruction 2 comment make a recursive call to solve_hanoi() to move a stack of size num_disks - 1 from middle_peg to last_peg using first_peg as temporary peg.\n",
    "\n",
    "3. Call the solve_hanoi function with arguments 3, 'A', 'B', and 'C' to calculate the necessary steps to solve the Tower of Hanoi puzzle with three disks.\n"
   ]
  },
  {
   "cell_type": "code",
   "execution_count": 7,
   "id": "32b7d544",
   "metadata": {},
   "outputs": [
    {
     "name": "stdout",
     "output_type": "stream",
     "text": [
      "Move the top disk from peg A to peg C.\n",
      "Move the top disk from peg A to peg B.\n",
      "Move the top disk from peg C to peg B.\n",
      "Move the top disk from peg A to peg C.\n",
      "Move the top disk from peg B to peg A.\n",
      "Move the top disk from peg B to peg C.\n",
      "Move the top disk from peg A to peg C.\n"
     ]
    }
   ],
   "source": [
    "def solve_hanoi(num_disks, first_peg, middle_peg, last_peg):\n",
    "    if num_disks == 1:\n",
    "        # Base case\n",
    "        print(\"Move the top disk from peg {} to peg {}.\".format(first_peg, last_peg))\n",
    "    else:\n",
    "        # General Case\n",
    "        # Instruction 1: Add code to solve the first subproblem\n",
    "        \n",
    "        # Second subproblem: Move disk num_disks from first_peg to last_peg\n",
    "        solve_hanoi(1, first_peg, middle_peg, last_peg)\n",
    "        \n",
    "        # Instruction 2: Add code to solve the third subproblem\n",
    "# Answer\n",
    "def solve_hanoi(num_disks, first_peg, middle_peg, last_peg):\n",
    "    if num_disks == 1:\n",
    "        # Base case\n",
    "        print(\"Move the top disk from peg {} to peg {}.\".format(first_peg, last_peg))\n",
    "    else:\n",
    "        # General Case\n",
    "        solve_hanoi(num_disks - 1, first_peg, last_peg, middle_peg)\n",
    "        solve_hanoi(1, first_peg, middle_peg, last_peg)\n",
    "        solve_hanoi(num_disks - 1, middle_peg, first_peg, last_peg)\n",
    "\n",
    "solve_hanoi(3, 'A', 'B', 'C')"
   ]
  },
  {
   "cell_type": "markdown",
   "id": "7fa889c4",
   "metadata": {},
   "source": [
    "### Let's implement a function to merge two sorted lists into a sorted list. Note that this function won't be recursive. We will implement the recursive part of merge sort on the next screen.\n",
    "\n",
    "1. Define a function merge_sorted_lists() with two sorted list arguments named list1 and list2.\n",
    "\n",
    "2. Implement the merge_sorted_lists() function so that it returns a sorted list with the elements of list1 merge with the elements of list2. If you don't feel confident about how to implement the function, we've provided additional instructions in the hints.\n",
    "\n",
    "3. Test the merge_sorted_lists() function on lists [2, 4, 7, 8] and [1, 3, 5, 6]. The result should be [1, 2, 3, 4, 5, 6, 7, 8]. Assign the result to a variable named merged_lists."
   ]
  },
  {
   "cell_type": "code",
   "execution_count": 4,
   "id": "cbe083b9",
   "metadata": {},
   "outputs": [
    {
     "name": "stdout",
     "output_type": "stream",
     "text": [
      "[1, 2, 3, 4, 5, 6, 7, 8]\n"
     ]
    }
   ],
   "source": [
    "def merge_sorted_lists(list1, list2):\n",
    "    merged_list = []\n",
    "    index1 = 0\n",
    "    index2 = 0\n",
    "    while index1 < len(list1) and index2 < len(list2):\n",
    "        if list1[index1] < list2[index2]:\n",
    "            merged_list.append(list1[index1])\n",
    "            index1 += 1\n",
    "        else:\n",
    "            merged_list.append(list2[index2])\n",
    "            index2 += 1\n",
    "    # Add remaining values\n",
    "    merged_list += list1[index1:]\n",
    "    merged_list += list2[index2:]\n",
    "    return merged_list     \n",
    "\n",
    "merged_lists = merge_sorted_lists([1, 2, 3, 4], [5, 6, 7, 8])\n",
    "print(merged_lists)"
   ]
  },
  {
   "cell_type": "markdown",
   "id": "285e46c9",
   "metadata": {},
   "source": [
    "### The merge_sorted_lists() function from the previous screen is available.\n",
    "\n",
    "1. Define a function merge_sort() with one list argument named values.\n",
    "\n",
    "2. Implement the merge_sort() as a recursive function by following these instructions:\n",
    "    1. Base case: if the length of values is smaller than two then the list is sorted. Return values.\n",
    "    2. General case:\n",
    "        1. Calculate the middle point as len(values) // 2. Assign it to a variable named midpoint.\n",
    "        2. Use merge_sort() to sort the first half: values[:midpoint]. Assign the result to sorted_first_half.\n",
    "        3. Use merge_sort() to sort the second half: values[midpoint:]. Assign the result to sorted_second_half.\n",
    "        4. Use the merge_sorted_lists() function to return the result of merging sorted_first_half with sorted_second_half.\n",
    "\n",
    "3. Test your function by printing the result of calling it on list [2, 4, 7, 8, 1, 3, 5, 6]."
   ]
  },
  {
   "cell_type": "code",
   "execution_count": 6,
   "id": "a7ba7a5d",
   "metadata": {},
   "outputs": [
    {
     "name": "stdout",
     "output_type": "stream",
     "text": [
      "[1, 2, 3, 4, 5, 6, 7, 8]\n"
     ]
    }
   ],
   "source": [
    "def merge_sort(values):\n",
    "    if len(values) < 2:\n",
    "        return values\n",
    "    midpoint = len(values) // 2\n",
    "    sorted_first_half = merge_sort(values[:midpoint])\n",
    "    sorted_second_half = merge_sort(values[midpoint:])\n",
    "    return merge_sorted_lists(sorted_first_half, sorted_second_half)\n",
    "    \n",
    "sorted_values = merge_sort([2, 4, 7, 8, 1, 3, 5, 6])\n",
    "print(sorted_values)"
   ]
  },
  {
   "cell_type": "code",
   "execution_count": null,
   "id": "b9ebef19",
   "metadata": {},
   "outputs": [],
   "source": []
  }
 ],
 "metadata": {
  "kernelspec": {
   "display_name": "Python 3 (ipykernel)",
   "language": "python",
   "name": "python3"
  },
  "language_info": {
   "codemirror_mode": {
    "name": "ipython",
    "version": 3
   },
   "file_extension": ".py",
   "mimetype": "text/x-python",
   "name": "python",
   "nbconvert_exporter": "python",
   "pygments_lexer": "ipython3",
   "version": "3.9.8"
  }
 },
 "nbformat": 4,
 "nbformat_minor": 5
}

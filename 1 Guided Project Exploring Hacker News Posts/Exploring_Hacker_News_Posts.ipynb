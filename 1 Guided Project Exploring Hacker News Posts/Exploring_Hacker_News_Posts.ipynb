{
 "cells": [
  {
   "cell_type": "markdown",
   "id": "5c91be29",
   "metadata": {},
   "source": [
    "# Hacker News Posts\n",
    "\n",
    "Hacker news is a site similar to reddit where users submit topics that are further discussed and commented. It is a popular forum to discuss start ups and techology where users are able to upvote topics. \n",
    "\n",
    "Originally the dataset had 300k rows from 2016, but rows where submissions with no comments were removed (80k posts remaining). The original dataset can be found [here](https://www.kaggle.com/hacker-news/hacker-news-posts):\n",
    "\n",
    "* **id**: The unique identifier from Hacker News for the post\n",
    "* **title**: The title of the post\n",
    "* **url**: The URL that the posts links to, if it the post has a URL\n",
    "* **num_points**: The number of points the post acquired, calculated as the total number of upvotes minus the total number of downvotes\n",
    "* **num_comments**: The number of comments that were made on the post\n",
    "* **author**: The username of the person who submitted the post\n",
    "* **created_at**: The date and time at which the post was submitted\n",
    "\n",
    "There are two topics that we're interested in 'Show HN' and 'Ask HN'. In particular we're concerned with the following:\n",
    "* If these two topics get more recieve more comments than the average topics?\n",
    "* Do posts created at certain times recieve more comments?\n"
   ]
  },
  {
   "cell_type": "code",
   "execution_count": 2,
   "id": "f0bb5fca",
   "metadata": {},
   "outputs": [],
   "source": [
    "opened_file = open('HN_posts_year_to_Sep_26_2016.csv')\n",
    "from csv import reader\n",
    "read_file = reader(opened_file)\n",
    "hn_data = list(read_file)\n",
    "opened_file.close()\n",
    "headers = hn_data[0]"
   ]
  },
  {
   "cell_type": "code",
   "execution_count": 3,
   "id": "c1b27183",
   "metadata": {},
   "outputs": [],
   "source": [
    "def explore_data(dataset, start, end, rows_and_columns=False):\n",
    "    dataset_slice = dataset[start:end]    \n",
    "    for row in dataset_slice:\n",
    "        print(row)\n",
    "        print('\\n') # adds a new (empty) line between rows\n",
    "        \n",
    "    if rows_and_columns:\n",
    "        print('Number of rows:', len(dataset))\n",
    "        print('Number of columns:', len(dataset[0]))"
   ]
  },
  {
   "cell_type": "code",
   "execution_count": 5,
   "id": "37036a23",
   "metadata": {},
   "outputs": [
    {
     "name": "stdout",
     "output_type": "stream",
     "text": [
      "['id', 'title', 'url', 'num_points', 'num_comments', 'author', 'created_at']\n",
      "\n",
      "\n",
      "['12579008', 'You have two days to comment if you want stem cells to be classified as your own', 'http://www.regulations.gov/document?D=FDA-2015-D-3719-0018', '1', '0', 'altstar', '9/26/2016 3:26']\n",
      "\n",
      "\n",
      "['12579005', 'SQLAR  the SQLite Archiver', 'https://www.sqlite.org/sqlar/doc/trunk/README.md', '1', '0', 'blacksqr', '9/26/2016 3:24']\n",
      "\n",
      "\n",
      "['12578997', 'What if we just printed a flatscreen television on the side of our boxes?', 'https://medium.com/vanmoof/our-secrets-out-f21c1f03fdc8#.ietxmez43', '1', '0', 'pavel_lishin', '9/26/2016 3:19']\n",
      "\n",
      "\n",
      "['12578989', 'algorithmic music', 'http://cacm.acm.org/magazines/2011/7/109891-algorithmic-composition/fulltext', '1', '0', 'poindontcare', '9/26/2016 3:16']\n",
      "\n",
      "\n"
     ]
    }
   ],
   "source": [
    "explore_data(hn_data, 0, 5)"
   ]
  },
  {
   "cell_type": "code",
   "execution_count": 8,
   "id": "8636dc5e",
   "metadata": {},
   "outputs": [
    {
     "data": {
      "text/plain": [
       "293120"
      ]
     },
     "execution_count": 8,
     "metadata": {},
     "output_type": "execute_result"
    }
   ],
   "source": [
    "len(hn_data)"
   ]
  },
  {
   "cell_type": "markdown",
   "id": "6f502aae",
   "metadata": {},
   "source": [
    "## Remove topics with 0 comments"
   ]
  },
  {
   "cell_type": "code",
   "execution_count": 12,
   "id": "234e91c3",
   "metadata": {},
   "outputs": [],
   "source": [
    "hn = []\n",
    "\n",
    "for row in hn_data[1:]:\n",
    "    num_comments = int(row[4])\n",
    "    if num_comments > 0:\n",
    "        hn.append(row)"
   ]
  },
  {
   "cell_type": "code",
   "execution_count": 13,
   "id": "070c20c0",
   "metadata": {},
   "outputs": [
    {
     "data": {
      "text/plain": [
       "80401"
      ]
     },
     "execution_count": 13,
     "metadata": {},
     "output_type": "execute_result"
    }
   ],
   "source": [
    "len(hn)"
   ]
  },
  {
   "cell_type": "markdown",
   "id": "917e8526",
   "metadata": {},
   "source": [
    "## Split data into Ask, Show and Other"
   ]
  },
  {
   "cell_type": "code",
   "execution_count": 25,
   "id": "3e9e0ee9",
   "metadata": {},
   "outputs": [
    {
     "name": "stdout",
     "output_type": "stream",
     "text": [
      "6911\n",
      "5059\n",
      "68431\n"
     ]
    }
   ],
   "source": [
    "ask_posts = []\n",
    "show_posts = []\n",
    "other_posts = []\n",
    "\n",
    "for row in hn:\n",
    "    title = row[1]\n",
    "    title = title.lower()\n",
    "    if title.startswith('ask hn'):\n",
    "        ask_posts.append(row)\n",
    "    elif title.startswith('show hn'):\n",
    "        show_posts.append(row)\n",
    "    else:\n",
    "        other_posts.append(row)\n"
   ]
  },
  {
   "cell_type": "code",
   "execution_count": 26,
   "id": "495a005a",
   "metadata": {},
   "outputs": [
    {
     "name": "stdout",
     "output_type": "stream",
     "text": [
      "['12578908', 'Ask HN: What TLD do you use for local development?', '', '4', '7', 'Sevrene', '9/26/2016 2:53']\n",
      "\n",
      "\n",
      "['12578522', 'Ask HN: How do you pass on your work when you die?', '', '6', '3', 'PascLeRasc', '9/26/2016 1:17']\n",
      "\n",
      "\n",
      "['12577870', 'Ask HN: Why join a fund when you can be an angel?', '', '1', '3', 'anthony_james', '9/25/2016 22:48']\n",
      "\n",
      "\n",
      "['12577647', 'Ask HN: Someone uses stock trading as passive income?', '', '5', '2', '00taffe', '9/25/2016 21:50']\n",
      "\n",
      "\n",
      "['12576946', 'Ask HN: How hard would it be to make a cheap, hackable phone?', '', '2', '1', 'hkt', '9/25/2016 19:30']\n",
      "\n",
      "\n"
     ]
    }
   ],
   "source": [
    "explore_data(ask_posts, 0, 5)"
   ]
  },
  {
   "cell_type": "code",
   "execution_count": 27,
   "id": "139e692f",
   "metadata": {},
   "outputs": [
    {
     "name": "stdout",
     "output_type": "stream",
     "text": [
      "['12577142', 'Show HN: Jumble  Essays on the go #PaulInYourPocket', 'https://itunes.apple.com/us/app/jumble-find-startup-essay/id1150939197?ls=1&mt=8', '1', '1', 'ryderj', '9/25/2016 20:06']\n",
      "\n",
      "\n",
      "['12576813', 'Show HN: Learn Japanese Vocab via multiple choice questions', 'http://japanese.vul.io/', '1', '1', 'soulchild37', '9/25/2016 19:06']\n",
      "\n",
      "\n",
      "['12576090', 'Show HN: Markov chain Twitter bot. Trained on comments left on Pornhub', 'https://twitter.com/botsonasty', '3', '1', 'keepingscore', '9/25/2016 16:50']\n",
      "\n",
      "\n",
      "['12575471', 'Show HN: Project-Okot: Novel, CODE-FREE data-apps in mere seconds', 'https://studio.nuchwezi.com/', '3', '1', 'nfixx', '9/25/2016 14:30']\n",
      "\n",
      "\n",
      "['12574773', 'Show HN: Cursor that Screenshot', 'http://edward.codes/cursor-that-screenshot', '3', '3', 'ed-bit', '9/25/2016 10:50']\n",
      "\n",
      "\n"
     ]
    }
   ],
   "source": [
    "explore_data(show_posts, 0, 5)"
   ]
  },
  {
   "cell_type": "code",
   "execution_count": 28,
   "id": "ea778f69",
   "metadata": {},
   "outputs": [
    {
     "name": "stdout",
     "output_type": "stream",
     "text": [
      "['12578975', 'Saving the Hassle of Shopping', 'https://blog.menswr.com/2016/09/07/whats-new-with-your-style-feed/', '1', '1', 'bdoux', '9/26/2016 3:13']\n",
      "\n",
      "\n",
      "['12578822', 'Amazons Algorithms Dont Find You the Best Deals', 'https://www.technologyreview.com/s/602442/amazons-algorithms-dont-find-you-the-best-deals/', '1', '1', 'yarapavan', '9/26/2016 2:26']\n",
      "\n",
      "\n",
      "['12578694', 'Emergency dose of epinephrine that does not cost an arm and a leg', 'http://m.imgur.com/gallery/th6Ua', '2', '1', 'dredmorbius', '9/26/2016 1:54']\n",
      "\n",
      "\n",
      "['12578624', 'Phone Makers Could Cut Off Drivers. So Why Dont They?', 'http://www.nytimes.com/2016/09/25/technology/phone-makers-could-cut-off-drivers-so-why-dont-they.html', '4', '1', 'danso', '9/26/2016 1:37']\n",
      "\n",
      "\n",
      "['12578556', 'OpenMW, Open Source Elderscrolls III: Morrowind Reimplementation', 'https://openmw.org/en/', '32', '3', 'rocky1138', '9/26/2016 1:24']\n",
      "\n",
      "\n"
     ]
    }
   ],
   "source": [
    "explore_data(other_posts, 0, 5)"
   ]
  },
  {
   "cell_type": "code",
   "execution_count": 29,
   "id": "a9e650b8",
   "metadata": {},
   "outputs": [
    {
     "name": "stdout",
     "output_type": "stream",
     "text": [
      "13.744175951381855\n"
     ]
    }
   ],
   "source": [
    "len_ask = len(ask_posts)\n",
    "\n",
    "total_ask_comments = 0\n",
    "\n",
    "for row in ask_posts:\n",
    "    comments = int(row[4])\n",
    "    total_ask_comments += comments\n",
    "\n",
    "print(total_ask_comments/len_ask)"
   ]
  },
  {
   "cell_type": "code",
   "execution_count": 30,
   "id": "602380f1",
   "metadata": {},
   "outputs": [
    {
     "name": "stdout",
     "output_type": "stream",
     "text": [
      "9.810832180272781\n"
     ]
    }
   ],
   "source": [
    "len_show = len(show_posts)\n",
    "\n",
    "total_show_comments = 0\n",
    "\n",
    "for row in show_posts:\n",
    "    comments = int(row[4])\n",
    "    total_show_comments += comments\n",
    "    \n",
    "print(total_show_comments/len_show)"
   ]
  },
  {
   "cell_type": "code",
   "execution_count": 31,
   "id": "bffb53d9",
   "metadata": {},
   "outputs": [
    {
     "name": "stdout",
     "output_type": "stream",
     "text": [
      "25.838318890561297\n"
     ]
    }
   ],
   "source": [
    "len_other = len(other_posts)\n",
    "\n",
    "total_other_comments = 0\n",
    "\n",
    "for row in other_posts:\n",
    "    comments = int(row[4])\n",
    "    total_other_comments += comments\n",
    "    \n",
    "print(total_other_comments/len_other)"
   ]
  },
  {
   "cell_type": "markdown",
   "id": "9180a3a2",
   "metadata": {},
   "source": [
    "## Avg. Comments by Topic\n",
    "\n",
    "* Other Topics: ~26 \n",
    "* Ask Topics: ~14\n",
    "* Show Topics: ~10\n",
    "\n",
    "The Other Topics generally get more comments than Ask and Show topics on HNs. "
   ]
  },
  {
   "cell_type": "code",
   "execution_count": 34,
   "id": "8eedd0d2",
   "metadata": {},
   "outputs": [
    {
     "name": "stdout",
     "output_type": "stream",
     "text": [
      "9/26/2016 2:53\n"
     ]
    }
   ],
   "source": [
    "import datetime as dt\n",
    "\n",
    "result_list = []\n",
    "\n",
    "for row in ask_posts:\n",
    "    created_at = row[6]\n",
    "    comments = int(row[4])\n",
    "    result_list.append([created_at, comments])"
   ]
  },
  {
   "cell_type": "code",
   "execution_count": 35,
   "id": "7ac9c300",
   "metadata": {},
   "outputs": [],
   "source": [
    "counts_by_hour = {}\n",
    "comments_by_hour = {}\n",
    "\n",
    "for row in result_list:\n",
    "    date = dt.datetime.strptime(row[0], \"%m/%d/%Y %H:%M\")    \n",
    "    hour = dt.datetime.strftime(date, \"%H\")\n",
    "    if hour not in counts_by_hour:\n",
    "        counts_by_hour[hour] = 1\n",
    "        comments_by_hour[hour] = row[1]\n",
    "    else:\n",
    "        counts_by_hour[hour] += 1\n",
    "        comments_by_hour[hour] += row[1]"
   ]
  },
  {
   "cell_type": "code",
   "execution_count": 51,
   "id": "9d7d3d2d",
   "metadata": {},
   "outputs": [],
   "source": [
    "avg_by_hour = {}\n",
    "\n",
    "for hr in comments_by_hour:\n",
    "    avg_by_hour[hr] = comments_by_hour[hr] / counts_by_hour[hr]"
   ]
  },
  {
   "cell_type": "code",
   "execution_count": 62,
   "id": "8d70fab0",
   "metadata": {},
   "outputs": [
    {
     "name": "stdout",
     "output_type": "stream",
     "text": [
      "0 9.86 Comments per hour\n",
      "1 9.37 Comments per hour\n",
      "2 13.2 Comments per hour\n",
      "3 10.16 Comments per hour\n",
      "4 12.69 Comments per hour\n",
      "5 11.14 Comments per hour\n",
      "6 9.02 Comments per hour\n",
      "7 10.1 Comments per hour\n",
      "8 12.43 Comments per hour\n",
      "9 8.39 Comments per hour\n",
      "10 13.76 Comments per hour\n",
      "11 11.14 Comments per hour\n",
      "12 15.45 Comments per hour\n",
      "13 22.22 Comments per hour\n",
      "14 13.15 Comments per hour\n",
      "15 39.67 Comments per hour\n",
      "16 10.76 Comments per hour\n",
      "17 13.73 Comments per hour\n",
      "18 10.79 Comments per hour\n",
      "19 9.41 Comments per hour\n",
      "20 11.38 Comments per hour\n",
      "21 11.06 Comments per hour\n",
      "22 11.75 Comments per hour\n",
      "23 8.32 Comments per hour\n"
     ]
    }
   ],
   "source": [
    "for k in range(24):\n",
    "    if k < 10:\n",
    "        print(k, round(avg_by_hour['0'+str(k)],2),\"Comments per hour\" )\n",
    "    else:\n",
    "        print(k, round(avg_by_hour[str(k)],2),\"Comments per hour\" )"
   ]
  },
  {
   "cell_type": "markdown",
   "id": "f8a6f361",
   "metadata": {},
   "source": [
    "Peak Comments:\n",
    "* 3 PM: 39.67\n",
    "* 1 PM: 22.22\n",
    "* 12PM: 15.45\n",
    "* 10AM: 13.76\n",
    "* 5 PM: 13.73\n",
    "\n",
    "Most comments happen around lunch and peak around 3 PM. "
   ]
  }
 ],
 "metadata": {
  "kernelspec": {
   "display_name": "Python 3 (ipykernel)",
   "language": "python",
   "name": "python3"
  },
  "language_info": {
   "codemirror_mode": {
    "name": "ipython",
    "version": 3
   },
   "file_extension": ".py",
   "mimetype": "text/x-python",
   "name": "python",
   "nbconvert_exporter": "python",
   "pygments_lexer": "ipython3",
   "version": "3.9.8"
  }
 },
 "nbformat": 4,
 "nbformat_minor": 5
}
